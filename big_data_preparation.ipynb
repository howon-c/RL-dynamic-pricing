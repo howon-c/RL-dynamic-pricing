{
 "cells": [
  {
   "cell_type": "markdown",
   "id": "3ea39c97-35dd-4d37-870e-341e42b6449e",
   "metadata": {},
   "source": [
    "# Prepare data for NYC network"
   ]
  },
  {
   "cell_type": "code",
   "execution_count": 1,
   "id": "d8d4ae75-3213-4c3b-823f-fc3ca7ae858b",
   "metadata": {},
   "outputs": [],
   "source": [
    "import numpy as np\n",
    "import pandas as pd\n",
    "import geopandas as gpd\n",
    "from scipy.sparse import csr_matrix\n",
    "import matplotlib\n",
    "import matplotlib.pyplot as plt\n",
    "\n",
    "%matplotlib inline\n",
    "\n",
    "matplotlib.rcParams.update({\n",
    "    'figure.dpi': 80,\n",
    "    'figure.titlesize': 25,\n",
    "    'axes.titlesize': 15,\n",
    "    'axes.labelsize': 13,\n",
    "    'xtick.labelsize': 13,\n",
    "    'ytick.labelsize': 13,\n",
    "    'legend.fontsize': 13,\n",
    "    'legend.title_fontsize': 15\n",
    "})"
   ]
  },
  {
   "cell_type": "markdown",
   "id": "c4ad6690-41a5-4df0-8885-45012e548332",
   "metadata": {},
   "source": [
    "Objective:\n",
    "+ Get the distribution for passenger generation rate\n",
    "+ Get the activate drivers versus hourly wages"
   ]
  },
  {
   "cell_type": "markdown",
   "id": "f75f7267-4006-4ab4-aea5-6e0d250901db",
   "metadata": {},
   "source": [
    "For extension"
   ]
  },
  {
   "cell_type": "code",
   "execution_count": null,
   "id": "05f4e702-11ce-4cf9-af83-50cb307d6a26",
   "metadata": {},
   "outputs": [],
   "source": [
    "tt = pd.read_csv('data/travel_times_2013.csv')\n",
    "links = pd.read_csv('data/links.csv')\n",
    "nodes = pd.read_csv('data/nodes.csv')"
   ]
  },
  {
   "cell_type": "markdown",
   "id": "4a7cda2d-ef11-4b3d-85ae-fb77f2dd7c81",
   "metadata": {},
   "source": [
    "# Load three months data"
   ]
  },
  {
   "cell_type": "code",
   "execution_count": 115,
   "id": "8dc28438-a546-40bd-8dd8-50388882f76d",
   "metadata": {},
   "outputs": [],
   "source": [
    "trip_data = pd.read_csv('data/compressed/FOIL2013/trip_data_3.zip')[['medallion', ' hack_license', ' pickup_datetime', ' dropoff_datetime', ' passenger_count',\\\n",
    "                                                                    ' trip_time_in_secs', ' trip_distance', ' pickup_longitude', ' pickup_latitude',\\\n",
    "                                                                    ' dropoff_longitude', ' dropoff_latitude']]\n",
    "trip_data = pd.concat([trip_data, pd.read_csv('data/compressed/FOIL2013/trip_fare_3.zip')[[' fare_amount', ' surcharge', ' mta_tax', ' tip_amount', ' tolls_amount',\\\n",
    "                                                                     ' total_amount']]], axis = 1)\n",
    "\n",
    "for month in range(4,6):\n",
    "    tmp_trip_data = pd.read_csv('data/compressed/FOIL2013/trip_data_'+str(month)+'.zip')[['medallion', ' hack_license', ' pickup_datetime', ' dropoff_datetime', ' passenger_count',\\\n",
    "                                                                    ' trip_time_in_secs', ' trip_distance', ' pickup_longitude', ' pickup_latitude',\\\n",
    "                                                                    ' dropoff_longitude', ' dropoff_latitude']]\n",
    "    tmp_trip_data = pd.concat([tmp_trip_data, pd.read_csv('data/compressed/FOIL2013/trip_fare_'+str(month)+'.zip')[[' fare_amount', ' surcharge', ' mta_tax', ' tip_amount', ' tolls_amount',\\\n",
    "                                                                         ' total_amount']]], axis = 1)\n",
    "    trip_data = trip_data.append(tmp_trip_data)\n"
   ]
  },
  {
   "cell_type": "code",
   "execution_count": 119,
   "id": "69160cdc-63d1-41fd-8545-d2d8e9709c12",
   "metadata": {},
   "outputs": [],
   "source": [
    "trip_data['timestamp'] = pd.to_datetime(trip_data[' pickup_datetime'], errors = 'coerce')\n",
    "\n",
    "# preprocessing, remove invalid data\n",
    "trip_data = trip_data[(trip_data[' trip_distance'] >= 0.1) & (trip_data[' trip_time_in_secs'] >= 60)]\n",
    "\n",
    "trip_data['day_of_year'], trip_data['hour'], trip_data['minute'] = trip_data['timestamp'].dt.day_of_year, trip_data['timestamp'].dt.hour, trip_data['timestamp'].dt.minute"
   ]
  },
  {
   "cell_type": "code",
   "execution_count": 116,
   "id": "78e774e5-b262-4e4c-b8ce-a5c10dd634c6",
   "metadata": {},
   "outputs": [
    {
     "data": {
      "text/plain": [
       "13659"
      ]
     },
     "execution_count": 116,
     "metadata": {},
     "output_type": "execute_result"
    }
   ],
   "source": [
    "total_vehicle = len(trip_data['medallion'].unique())\n",
    "total_vehicle"
   ]
  },
  {
   "cell_type": "markdown",
   "id": "70cbb2a2-6e24-4c9c-8da2-1617907dda00",
   "metadata": {
    "tags": []
   },
   "source": [
    "# Active driver vs. income"
   ]
  },
  {
   "cell_type": "code",
   "execution_count": 120,
   "id": "366872f6-3d66-4d35-a52e-cd0af254a462",
   "metadata": {},
   "outputs": [],
   "source": [
    "trip_data.sort_values(['medallion', 'timestamp'], inplace=True)\n",
    "trip_data['diffs'] = trip_data['timestamp'].diff()\n",
    "\n",
    "mask = trip_data['medallion'] != trip_data['medallion'].shift(1)\n",
    "trip_data.loc[mask, 'diffs'] = np.nan\n",
    "\n",
    "# filter data\n",
    "trip_data['pre_diffs'] = trip_data['diffs'].dt.seconds.shift(-1)\n",
    "\n",
    "trip_data['pre_diffs'] = trip_data['pre_diffs'] - trip_data[' trip_time_in_secs']\n",
    "trip_data['post_diffs'] = trip_data['pre_diffs'].shift(1)\n",
    "\n",
    "mask2 = mask | (trip_data['pre_diffs']>1800) | (trip_data['post_diffs']>1800)\n",
    "trip_data = trip_data.loc[mask2]\n",
    "\n",
    "# trip_data.to_csv(\"data/driver_start_end_trip_data.csv\", index = None)"
   ]
  },
  {
   "cell_type": "code",
   "execution_count": 138,
   "id": "1281fb98-da09-404f-b320-396193e55a4c",
   "metadata": {},
   "outputs": [
    {
     "data": {
      "text/html": [
       "<div>\n",
       "<style scoped>\n",
       "    .dataframe tbody tr th:only-of-type {\n",
       "        vertical-align: middle;\n",
       "    }\n",
       "\n",
       "    .dataframe tbody tr th {\n",
       "        vertical-align: top;\n",
       "    }\n",
       "\n",
       "    .dataframe thead th {\n",
       "        text-align: right;\n",
       "    }\n",
       "</style>\n",
       "<table border=\"1\" class=\"dataframe\">\n",
       "  <thead>\n",
       "    <tr style=\"text-align: right;\">\n",
       "      <th></th>\n",
       "      <th>medallion</th>\n",
       "      <th>hack_license</th>\n",
       "      <th>pickup_datetime</th>\n",
       "      <th>dropoff_datetime</th>\n",
       "      <th>passenger_count</th>\n",
       "      <th>trip_time_in_secs</th>\n",
       "      <th>trip_distance</th>\n",
       "      <th>pickup_longitude</th>\n",
       "      <th>pickup_latitude</th>\n",
       "      <th>dropoff_longitude</th>\n",
       "      <th>...</th>\n",
       "      <th>tip_amount</th>\n",
       "      <th>tolls_amount</th>\n",
       "      <th>total_amount</th>\n",
       "      <th>timestamp</th>\n",
       "      <th>day_of_year</th>\n",
       "      <th>hour</th>\n",
       "      <th>minute</th>\n",
       "      <th>diffs</th>\n",
       "      <th>pre_diffs</th>\n",
       "      <th>post_diffs</th>\n",
       "    </tr>\n",
       "  </thead>\n",
       "  <tbody>\n",
       "    <tr>\n",
       "      <th>3514</th>\n",
       "      <td>2013000001</td>\n",
       "      <td>2013000001</td>\n",
       "      <td>2013-03-01 00:08:00</td>\n",
       "      <td>2013-03-01 00:25:00</td>\n",
       "      <td>2</td>\n",
       "      <td>1020</td>\n",
       "      <td>3.30</td>\n",
       "      <td>-73.993904</td>\n",
       "      <td>40.751301</td>\n",
       "      <td>-73.988815</td>\n",
       "      <td>...</td>\n",
       "      <td>1.0</td>\n",
       "      <td>0.0</td>\n",
       "      <td>16.5</td>\n",
       "      <td>2013-03-01 00:08:00</td>\n",
       "      <td>60</td>\n",
       "      <td>0</td>\n",
       "      <td>8</td>\n",
       "      <td>NaT</td>\n",
       "      <td>180.0</td>\n",
       "      <td>NaN</td>\n",
       "    </tr>\n",
       "    <tr>\n",
       "      <th>26336</th>\n",
       "      <td>2013000001</td>\n",
       "      <td>2013000001</td>\n",
       "      <td>2013-03-01 01:17:00</td>\n",
       "      <td>2013-03-01 01:34:00</td>\n",
       "      <td>2</td>\n",
       "      <td>1020</td>\n",
       "      <td>4.50</td>\n",
       "      <td>-73.900131</td>\n",
       "      <td>40.740696</td>\n",
       "      <td>-73.955223</td>\n",
       "      <td>...</td>\n",
       "      <td>0.0</td>\n",
       "      <td>0.0</td>\n",
       "      <td>18.5</td>\n",
       "      <td>2013-03-01 01:17:00</td>\n",
       "      <td>60</td>\n",
       "      <td>1</td>\n",
       "      <td>17</td>\n",
       "      <td>0 days 00:32:00</td>\n",
       "      <td>21240.0</td>\n",
       "      <td>1260.0</td>\n",
       "    </tr>\n",
       "    <tr>\n",
       "      <th>84101</th>\n",
       "      <td>2013000001</td>\n",
       "      <td>2013017344</td>\n",
       "      <td>2013-03-01 07:28:00</td>\n",
       "      <td>2013-03-01 07:35:00</td>\n",
       "      <td>1</td>\n",
       "      <td>420</td>\n",
       "      <td>2.46</td>\n",
       "      <td>-73.949806</td>\n",
       "      <td>40.776363</td>\n",
       "      <td>-73.937180</td>\n",
       "      <td>...</td>\n",
       "      <td>0.0</td>\n",
       "      <td>0.0</td>\n",
       "      <td>9.5</td>\n",
       "      <td>2013-03-01 07:28:00</td>\n",
       "      <td>60</td>\n",
       "      <td>7</td>\n",
       "      <td>28</td>\n",
       "      <td>0 days 06:11:00</td>\n",
       "      <td>540.0</td>\n",
       "      <td>21240.0</td>\n",
       "    </tr>\n",
       "    <tr>\n",
       "      <th>267067</th>\n",
       "      <td>2013000001</td>\n",
       "      <td>2013017344</td>\n",
       "      <td>2013-03-01 14:29:00</td>\n",
       "      <td>2013-03-01 15:28:00</td>\n",
       "      <td>1</td>\n",
       "      <td>3540</td>\n",
       "      <td>21.46</td>\n",
       "      <td>-73.985245</td>\n",
       "      <td>40.760448</td>\n",
       "      <td>-73.794075</td>\n",
       "      <td>...</td>\n",
       "      <td>0.0</td>\n",
       "      <td>4.8</td>\n",
       "      <td>57.3</td>\n",
       "      <td>2013-03-01 14:29:00</td>\n",
       "      <td>60</td>\n",
       "      <td>14</td>\n",
       "      <td>29</td>\n",
       "      <td>0 days 00:30:00</td>\n",
       "      <td>5160.0</td>\n",
       "      <td>1320.0</td>\n",
       "    </tr>\n",
       "    <tr>\n",
       "      <th>324579</th>\n",
       "      <td>2013000001</td>\n",
       "      <td>2013000001</td>\n",
       "      <td>2013-03-01 16:54:00</td>\n",
       "      <td>2013-03-01 17:01:00</td>\n",
       "      <td>1</td>\n",
       "      <td>420</td>\n",
       "      <td>1.33</td>\n",
       "      <td>-73.992332</td>\n",
       "      <td>40.724236</td>\n",
       "      <td>-74.000938</td>\n",
       "      <td>...</td>\n",
       "      <td>0.0</td>\n",
       "      <td>0.0</td>\n",
       "      <td>8.5</td>\n",
       "      <td>2013-03-01 16:54:00</td>\n",
       "      <td>60</td>\n",
       "      <td>16</td>\n",
       "      <td>54</td>\n",
       "      <td>0 days 02:25:00</td>\n",
       "      <td>180.0</td>\n",
       "      <td>5160.0</td>\n",
       "    </tr>\n",
       "  </tbody>\n",
       "</table>\n",
       "<p>5 rows × 24 columns</p>\n",
       "</div>"
      ],
      "text/plain": [
       "         medallion   hack_license      pickup_datetime     dropoff_datetime  \\\n",
       "3514    2013000001     2013000001  2013-03-01 00:08:00  2013-03-01 00:25:00   \n",
       "26336   2013000001     2013000001  2013-03-01 01:17:00  2013-03-01 01:34:00   \n",
       "84101   2013000001     2013017344  2013-03-01 07:28:00  2013-03-01 07:35:00   \n",
       "267067  2013000001     2013017344  2013-03-01 14:29:00  2013-03-01 15:28:00   \n",
       "324579  2013000001     2013000001  2013-03-01 16:54:00  2013-03-01 17:01:00   \n",
       "\n",
       "         passenger_count   trip_time_in_secs   trip_distance  \\\n",
       "3514                   2                1020            3.30   \n",
       "26336                  2                1020            4.50   \n",
       "84101                  1                 420            2.46   \n",
       "267067                 1                3540           21.46   \n",
       "324579                 1                 420            1.33   \n",
       "\n",
       "         pickup_longitude   pickup_latitude   dropoff_longitude  ...  \\\n",
       "3514           -73.993904         40.751301          -73.988815  ...   \n",
       "26336          -73.900131         40.740696          -73.955223  ...   \n",
       "84101          -73.949806         40.776363          -73.937180  ...   \n",
       "267067         -73.985245         40.760448          -73.794075  ...   \n",
       "324579         -73.992332         40.724236          -74.000938  ...   \n",
       "\n",
       "         tip_amount   tolls_amount   total_amount           timestamp  \\\n",
       "3514            1.0            0.0           16.5 2013-03-01 00:08:00   \n",
       "26336           0.0            0.0           18.5 2013-03-01 01:17:00   \n",
       "84101           0.0            0.0            9.5 2013-03-01 07:28:00   \n",
       "267067          0.0            4.8           57.3 2013-03-01 14:29:00   \n",
       "324579          0.0            0.0            8.5 2013-03-01 16:54:00   \n",
       "\n",
       "        day_of_year  hour  minute           diffs  pre_diffs  post_diffs  \n",
       "3514             60     0       8             NaT      180.0         NaN  \n",
       "26336            60     1      17 0 days 00:32:00    21240.0      1260.0  \n",
       "84101            60     7      28 0 days 06:11:00      540.0     21240.0  \n",
       "267067           60    14      29 0 days 00:30:00     5160.0      1320.0  \n",
       "324579           60    16      54 0 days 02:25:00      180.0      5160.0  \n",
       "\n",
       "[5 rows x 24 columns]"
      ]
     },
     "execution_count": 138,
     "metadata": {},
     "output_type": "execute_result"
    }
   ],
   "source": [
    "trip_data.head()"
   ]
  },
  {
   "cell_type": "code",
   "execution_count": 141,
   "id": "5f90d7e7-3de8-479e-965b-6ea37297b59c",
   "metadata": {},
   "outputs": [
    {
     "data": {
      "text/plain": [
       "10908.0"
      ]
     },
     "execution_count": 141,
     "metadata": {},
     "output_type": "execute_result"
    }
   ],
   "source": [
    "np.max(act_drivers)"
   ]
  },
  {
   "cell_type": "code",
   "execution_count": 140,
   "id": "9b073844-0701-4592-9fea-8557198c3b20",
   "metadata": {},
   "outputs": [],
   "source": [
    "# trip_data = pd.read_csv(\"data/driver_start_end_trip_data.csv\")\n",
    "\n",
    "act_drivers = np.zeros(365*24*60)\n",
    "current_license = -1\n",
    "\n",
    "for _, row in trip_data.iterrows():\n",
    "    if(current_license != row['medallion']):\n",
    "        started = True\n",
    "        current_license = row['medallion']\n",
    "        start_time = (row['day_of_year']-1)*24*60+ row['hour']*60+row['minute']\n",
    "    if(row['pre_diffs']>1800 and started): # last record\n",
    "        started = False\n",
    "        end_time = (row['day_of_year']-1)*24*60+ row['hour']*60+row['minute'] + row[' trip_time_in_secs']//60\n",
    "        act_drivers[int(start_time):int(end_time)]+=1\n",
    "        continue\n",
    "    elif(row['post_diffs']>1800 and not started): # first record\n",
    "        started = True\n",
    "        start_time = max((row['day_of_year']-1)*24*60+ row['hour']*60+row['minute'],end_time)"
   ]
  },
  {
   "cell_type": "code",
   "execution_count": 2,
   "id": "f4e4cc8e-de5c-452a-bd65-0bd4bad08278",
   "metadata": {},
   "outputs": [],
   "source": [
    "# np.save(\"data/active_drivers_per_min.npy\", act_drivers)\n",
    "act_drivers = np.load(\"data/active_drivers_per_min.npy\")"
   ]
  },
  {
   "cell_type": "code",
   "execution_count": null,
   "id": "27c203b6-0b73-46c5-aef6-86b33b6c0106",
   "metadata": {},
   "outputs": [],
   "source": [
    "trip = pd.read_csv('data/trip_data_matched.csv')"
   ]
  },
  {
   "cell_type": "code",
   "execution_count": 97,
   "id": "30288501-b608-4986-9dd3-186c54c87d2b",
   "metadata": {},
   "outputs": [],
   "source": [
    "# income per minute\n",
    "trip_data = trip.groupby(['day_of_year','hour','minute']).agg({' fare_amount': sum, ' surcharge':sum, ' mta_tax':sum,' tip_amount': sum, ' tolls_amount': sum, ' total_amount': sum})\n",
    "trip_data = trip_data.reset_index()"
   ]
  },
  {
   "cell_type": "code",
   "execution_count": 98,
   "id": "548927ac-b961-4003-88d1-c7bd06dfff2c",
   "metadata": {},
   "outputs": [],
   "source": [
    "income_per_min = np.zeros(365*24*60)\n",
    "column = ' fare_amount'\n",
    "for _, row in trip_data.iterrows():\n",
    "    index = int((row['day_of_year']-1)*24*60+ row['hour']*60+row['minute'])\n",
    "    income_per_min[index] = row[column]"
   ]
  },
  {
   "cell_type": "code",
   "execution_count": 3,
   "id": "6a82aa6c-045b-4ef9-b626-e8189cd4d7ee",
   "metadata": {},
   "outputs": [],
   "source": [
    "# np.save(\"data/income_per_min.npy\", income_per_min)\n",
    "income_per_min = np.load(\"data/income_per_min.npy\")"
   ]
  },
  {
   "cell_type": "code",
   "execution_count": 17,
   "id": "f43dc739-1137-481d-b2a1-355bf3b82629",
   "metadata": {},
   "outputs": [],
   "source": [
    "# trip_data = pd.read_csv('data/trip_data_matched.csv')"
   ]
  },
  {
   "cell_type": "code",
   "execution_count": 102,
   "id": "8d97edcc-47cd-4843-8d28-089abebaf774",
   "metadata": {},
   "outputs": [
    {
     "data": {
      "text/plain": [
       "[<matplotlib.lines.Line2D at 0x1e2296d83d0>]"
      ]
     },
     "execution_count": 102,
     "metadata": {},
     "output_type": "execute_result"
    },
    {
     "data": {
      "image/png": "[encoded data removed]",
      "text/plain": [
       "<Figure size 480x320 with 1 Axes>"
      ]
     },
     "metadata": {
      "needs_background": "light"
     },
     "output_type": "display_data"
    }
   ],
   "source": [
    "plt.plot(income_per_30min)"
   ]
  },
  {
   "cell_type": "code",
   "execution_count": 6,
   "id": "ba9415ca-9e42-41bd-a7cb-8ad81fcca414",
   "metadata": {},
   "outputs": [
    {
     "data": {
      "text/plain": [
       "[<matplotlib.lines.Line2D at 0x11cb80fdeb0>]"
      ]
     },
     "execution_count": 6,
     "metadata": {},
     "output_type": "execute_result"
    },
    {
     "data": {
      "image/png": "[encoded data removed]",
      "text/plain": [
       "<Figure size 480x320 with 1 Axes>"
      ]
     },
     "metadata": {
      "needs_background": "light"
     },
     "output_type": "display_data"
    }
   ],
   "source": [
    "plt.plot(act_drivers_per_30min)"
   ]
  },
  {
   "cell_type": "code",
   "execution_count": 4,
   "id": "c4f5e79f-c2b7-4304-bb05-3cbd4ff29ca5",
   "metadata": {},
   "outputs": [],
   "source": [
    "# reagg the data to reduce the variance, for every 30 minutes\n",
    "act_drivers_per_30min = np.zeros(365*24*2)\n",
    "income_per_30min = np.zeros(365*24*2)\n",
    "\n",
    "for i in range(365*24*2):\n",
    "    act_drivers_per_30min[i] = np.max(act_drivers[(i*30):((i+1)*30)])\n",
    "    income_per_30min[i] = np.sum(income_per_min[(i*30):((i+1)*30)])"
   ]
  },
  {
   "cell_type": "code",
   "execution_count": 7,
   "id": "b07de0bc-3621-488e-b1cb-d85dd5a8232a",
   "metadata": {},
   "outputs": [],
   "source": [
    "keep_ind = (income_per_30min>0)"
   ]
  },
  {
   "cell_type": "code",
   "execution_count": 8,
   "id": "9240ef18-9651-46f6-b4b0-8743d1a5e1cd",
   "metadata": {},
   "outputs": [
    {
     "data": {
      "text/plain": [
       "(0.0, 20.0)"
      ]
     },
     "execution_count": 8,
     "metadata": {},
     "output_type": "execute_result"
    },
    {
     "data": {
      "image/png": "[encoded data removed]",
      "text/plain": [
       "<Figure size 480x320 with 1 Axes>"
      ]
     },
     "metadata": {
      "needs_background": "light"
     },
     "output_type": "display_data"
    }
   ],
   "source": [
    "inds = np.random.choice(np.arange(sum(keep_ind)), 5000)\n",
    "plt.plot((income_per_30min/(act_drivers_per_30min+1e-4))[keep_ind][inds], act_drivers_per_30min[keep_ind][inds]/13659,'*')\n",
    "plt.xlim([0,20])"
   ]
  },
  {
   "cell_type": "code",
   "execution_count": 9,
   "id": "ec93e05f-d9ce-4d97-82ad-cda64767ae26",
   "metadata": {},
   "outputs": [],
   "source": [
    "import scipy.optimize\n",
    "import scipy.stats"
   ]
  },
  {
   "cell_type": "code",
   "execution_count": 10,
   "id": "490e8d04-0637-41ad-8085-d5de13213e02",
   "metadata": {},
   "outputs": [],
   "source": [
    "# f = lambda x,mu,sigma: scipy.stats.norm(mu,sigma).cdf(x)\n",
    "# mu,sigma = scipy.optimize.curve_fit(f,(income_per_min/(act_drivers+1e-1)),act_drivers/12153)[0]"
   ]
  },
  {
   "cell_type": "code",
   "execution_count": 11,
   "id": "a6e38bae-fa20-436c-a0a2-7e4d0a31d042",
   "metadata": {},
   "outputs": [],
   "source": [
    "f = lambda x,mu,sigma: scipy.stats.norm(mu,sigma).cdf(x)\n",
    "mu,sigma = scipy.optimize.curve_fit(f,(income_per_30min/(act_drivers_per_30min+1e-4))[keep_ind],(act_drivers_per_30min/13659)[keep_ind])[0]\n",
    "\n",
    "f2 = lambda x,mu,sigma: scipy.stats.norm(mu,sigma).cdf(x)\n",
    "mu2,sigma2 = scipy.optimize.curve_fit(f2,np.log((income_per_30min/(act_drivers_per_30min+1e-4))[keep_ind]+1),(act_drivers_per_30min/13659)[keep_ind])[0]"
   ]
  },
  {
   "cell_type": "code",
   "execution_count": 12,
   "id": "60fa0fe7-b2f0-464b-873e-5b010d1d34f8",
   "metadata": {},
   "outputs": [],
   "source": [
    "# calculate the R-square, and statistic significance if available"
   ]
  },
  {
   "cell_type": "code",
   "execution_count": 13,
   "id": "8d03e7ef-b229-44e5-b986-7ea82b0bdaf6",
   "metadata": {},
   "outputs": [
    {
     "data": {
      "image/png": "[encoded data removed]",
      "text/plain": [
       "<Figure size 320x240 with 1 Axes>"
      ]
     },
     "metadata": {
      "needs_background": "light"
     },
     "output_type": "display_data"
    }
   ],
   "source": [
    "fig, ax = plt.subplots(figsize=(4,3))\n",
    "\n",
    "dx = 0.01\n",
    "X = np.arange(0, 30, dx)\n",
    "CY = f(X, mu, sigma)\n",
    "CY2 =f2(np.log(X+1), mu2, sigma2)\n",
    "\n",
    "# plot the fitted curve\n",
    "inds = np.random.choice(np.arange(sum(keep_ind)), 10000)\n",
    "plt.plot(2*(income_per_30min/(act_drivers_per_30min+1e-1))[keep_ind][inds], 100*act_drivers_per_30min[keep_ind][inds]/13659,'x',alpha=0.1, color='C2')\n",
    "plt.plot(2*X, 100*CY, '--', color = 'C3', label='normal', lw=3)\n",
    "plt.plot(2*X, 100*CY2, color = 'C0', label= 'lognormal', lw=3)\n",
    "\n",
    "plt.xlim([0,60])\n",
    "plt.ylim([0,100])\n",
    "plt.legend()\n",
    "\n",
    "plt.ylabel(\"% of active vehicles\")\n",
    "plt.xlabel(\"Collected fare ($) per vehicle per hour\")\n",
    "\n",
    "plt.tight_layout()\n",
    "\n",
    "plt.savefig(\"figs/fare_vs_drivers.png\", dpi=300)\n",
    "plt.savefig(\"figs/fare_vs_drivers.pdf\")"
   ]
  },
  {
   "cell_type": "markdown",
   "id": "58c1cc31-fad6-4439-ae23-c160da0ad398",
   "metadata": {
    "tags": []
   },
   "source": [
    "# Demand per minute"
   ]
  },
  {
   "cell_type": "code",
   "execution_count": 18,
   "id": "cb72295c-87a7-4763-a40f-0c593f27217c",
   "metadata": {},
   "outputs": [],
   "source": [
    "background = gpd.read_file(\"data/map/taxi_zones_wgs84.shp\")[['LocationID','geometry']]"
   ]
  },
  {
   "cell_type": "code",
   "execution_count": 24,
   "id": "8a76f9e9-a9ac-4ef5-b494-59f550e4fb5a",
   "metadata": {},
   "outputs": [
    {
     "data": {
      "text/plain": [
       "499391.0"
      ]
     },
     "execution_count": 24,
     "metadata": {},
     "output_type": "execute_result"
    }
   ],
   "source": [
    "trip_data = trip_data[(trip_data['day_of_year']>62)&(trip_data['day_of_year']<=132)]\n",
    "len(trip_data)/70"
   ]
  },
  {
   "cell_type": "code",
   "execution_count": 25,
   "id": "c419a376-3077-4505-a50a-7f695345c6f3",
   "metadata": {},
   "outputs": [
    {
     "ename": "NameError",
     "evalue": "name 'background' is not defined",
     "output_type": "error",
     "traceback": [
      "\u001b[1;31m---------------------------------------------------------------------------\u001b[0m",
      "\u001b[1;31mNameError\u001b[0m                                 Traceback (most recent call last)",
      "\u001b[1;32m~\\AppData\\Local\\Temp/ipykernel_66676/2641366595.py\u001b[0m in \u001b[0;36m<module>\u001b[1;34m\u001b[0m\n\u001b[0;32m      4\u001b[0m \u001b[0mtrip_data\u001b[0m\u001b[1;33m[\u001b[0m\u001b[1;34m'geometry'\u001b[0m\u001b[1;33m]\u001b[0m \u001b[1;33m=\u001b[0m \u001b[0mgpd\u001b[0m\u001b[1;33m.\u001b[0m\u001b[0mpoints_from_xy\u001b[0m\u001b[1;33m(\u001b[0m\u001b[0mtrip_data\u001b[0m\u001b[1;33m[\u001b[0m\u001b[1;34m' pickup_longitude'\u001b[0m\u001b[1;33m]\u001b[0m\u001b[1;33m,\u001b[0m \u001b[0mtrip_data\u001b[0m\u001b[1;33m[\u001b[0m\u001b[1;34m' pickup_latitude'\u001b[0m\u001b[1;33m]\u001b[0m\u001b[1;33m)\u001b[0m\u001b[1;33m\u001b[0m\u001b[1;33m\u001b[0m\u001b[0m\n\u001b[0;32m      5\u001b[0m \u001b[0mtrip_data\u001b[0m \u001b[1;33m=\u001b[0m \u001b[0mgpd\u001b[0m\u001b[1;33m.\u001b[0m\u001b[0mGeoDataFrame\u001b[0m\u001b[1;33m(\u001b[0m\u001b[0mtrip_data\u001b[0m\u001b[1;33m,\u001b[0m \u001b[0mgeometry\u001b[0m\u001b[1;33m=\u001b[0m\u001b[0mtrip_data\u001b[0m\u001b[1;33m[\u001b[0m\u001b[1;34m'geometry'\u001b[0m\u001b[1;33m]\u001b[0m\u001b[1;33m)\u001b[0m\u001b[1;33m\u001b[0m\u001b[1;33m\u001b[0m\u001b[0m\n\u001b[1;32m----> 6\u001b[1;33m \u001b[0mtrip_data\u001b[0m \u001b[1;33m=\u001b[0m \u001b[0mgpd\u001b[0m\u001b[1;33m.\u001b[0m\u001b[0msjoin\u001b[0m\u001b[1;33m(\u001b[0m\u001b[0mtrip_data\u001b[0m\u001b[1;33m,\u001b[0m \u001b[0mbackground\u001b[0m\u001b[1;33m,\u001b[0m \u001b[0mhow\u001b[0m\u001b[1;33m=\u001b[0m\u001b[1;34m'left'\u001b[0m\u001b[1;33m,\u001b[0m \u001b[0mop\u001b[0m\u001b[1;33m=\u001b[0m\u001b[1;34m'within'\u001b[0m\u001b[1;33m)\u001b[0m\u001b[1;33m\u001b[0m\u001b[1;33m\u001b[0m\u001b[0m\n\u001b[0m\u001b[0;32m      7\u001b[0m \u001b[0mtrip_data\u001b[0m\u001b[1;33m.\u001b[0m\u001b[0mrename\u001b[0m\u001b[1;33m(\u001b[0m\u001b[1;33m{\u001b[0m\u001b[1;34m'LocationID'\u001b[0m\u001b[1;33m:\u001b[0m\u001b[1;34m'pickup_loc'\u001b[0m\u001b[1;33m}\u001b[0m\u001b[1;33m,\u001b[0m \u001b[0minplace\u001b[0m\u001b[1;33m=\u001b[0m\u001b[1;32mTrue\u001b[0m\u001b[1;33m,\u001b[0m \u001b[0maxis\u001b[0m \u001b[1;33m=\u001b[0m \u001b[1;36m1\u001b[0m\u001b[1;33m)\u001b[0m\u001b[1;33m\u001b[0m\u001b[1;33m\u001b[0m\u001b[0m\n\u001b[0;32m      8\u001b[0m \u001b[1;33m\u001b[0m\u001b[0m\n",
      "\u001b[1;31mNameError\u001b[0m: name 'background' is not defined"
     ]
    }
   ],
   "source": [
    "# # extract one month data\n",
    "trip_data['geometry'] = gpd.points_from_xy(trip_data[' pickup_longitude'], trip_data[' pickup_latitude'])\n",
    "trip_data = gpd.GeoDataFrame(trip_data, geometry=trip_data['geometry'])"
   ]
  },
  {
   "cell_type": "code",
   "execution_count": 27,
   "id": "81f33aad-2cb4-47a1-a5fc-b2e36b4e4fd9",
   "metadata": {
    "collapsed": true,
    "jupyter": {
     "outputs_hidden": true
    },
    "tags": []
   },
   "outputs": [
    {
     "name": "stderr",
     "output_type": "stream",
     "text": [
      "C:\\Users\\User\\AppData\\Local\\Temp/ipykernel_66676/15359684.py:1: UserWarning: CRS mismatch between the CRS of left geometries and the CRS of right geometries.\n",
      "Use `to_crs()` to reproject one of the input geometries to match the CRS of the other.\n",
      "\n",
      "Left CRS: None\n",
      "Right CRS: EPSG:4326\n",
      "\n",
      "  trip_data = gpd.sjoin(trip_data, background, how='left', op='within')\n",
      "C:\\Users\\User\\AppData\\Local\\Temp/ipykernel_66676/15359684.py:7: UserWarning: CRS mismatch between the CRS of left geometries and the CRS of right geometries.\n",
      "Use `to_crs()` to reproject one of the input geometries to match the CRS of the other.\n",
      "\n",
      "Left CRS: None\n",
      "Right CRS: EPSG:4326\n",
      "\n",
      "  trip_data = gpd.sjoin(trip_data, background, how='left', op='within')\n"
     ]
    },
    {
     "ename": "KeyError",
     "evalue": "\"['diffs'] not found in axis\"",
     "output_type": "error",
     "traceback": [
      "\u001b[1;31m---------------------------------------------------------------------------\u001b[0m",
      "\u001b[1;31mKeyError\u001b[0m                                  Traceback (most recent call last)",
      "\u001b[1;32m~\\AppData\\Local\\Temp/ipykernel_66676/15359684.py\u001b[0m in \u001b[0;36m<module>\u001b[1;34m\u001b[0m\n\u001b[0;32m      9\u001b[0m \u001b[0mtrip_data\u001b[0m\u001b[1;33m.\u001b[0m\u001b[0mrename\u001b[0m\u001b[1;33m(\u001b[0m\u001b[1;33m{\u001b[0m\u001b[1;34m'LocationID'\u001b[0m\u001b[1;33m:\u001b[0m\u001b[1;34m'dropoff_loc'\u001b[0m\u001b[1;33m}\u001b[0m\u001b[1;33m,\u001b[0m \u001b[0minplace\u001b[0m\u001b[1;33m=\u001b[0m\u001b[1;32mTrue\u001b[0m\u001b[1;33m,\u001b[0m \u001b[0maxis\u001b[0m \u001b[1;33m=\u001b[0m \u001b[1;36m1\u001b[0m\u001b[1;33m)\u001b[0m\u001b[1;33m\u001b[0m\u001b[1;33m\u001b[0m\u001b[0m\n\u001b[0;32m     10\u001b[0m \u001b[1;33m\u001b[0m\u001b[0m\n\u001b[1;32m---> 11\u001b[1;33m \u001b[0mtrip_data\u001b[0m\u001b[1;33m.\u001b[0m\u001b[0mdrop\u001b[0m\u001b[1;33m(\u001b[0m\u001b[1;33m[\u001b[0m\u001b[1;34m'index_right'\u001b[0m\u001b[1;33m,\u001b[0m\u001b[1;34m'geometry'\u001b[0m\u001b[1;33m,\u001b[0m\u001b[1;34m'diffs'\u001b[0m\u001b[1;33m]\u001b[0m\u001b[1;33m,\u001b[0m \u001b[0maxis\u001b[0m \u001b[1;33m=\u001b[0m \u001b[1;36m1\u001b[0m\u001b[1;33m,\u001b[0m \u001b[0minplace\u001b[0m\u001b[1;33m=\u001b[0m \u001b[1;32mTrue\u001b[0m\u001b[1;33m)\u001b[0m\u001b[1;33m\u001b[0m\u001b[1;33m\u001b[0m\u001b[0m\n\u001b[0m\u001b[0;32m     12\u001b[0m \u001b[0mtrip_data\u001b[0m\u001b[1;33m.\u001b[0m\u001b[0mto_csv\u001b[0m\u001b[1;33m(\u001b[0m\u001b[1;34m'data/trip_data_matched.csv'\u001b[0m\u001b[1;33m,\u001b[0m \u001b[0mindex\u001b[0m \u001b[1;33m=\u001b[0m \u001b[1;32mNone\u001b[0m\u001b[1;33m)\u001b[0m\u001b[1;33m\u001b[0m\u001b[1;33m\u001b[0m\u001b[0m\n",
      "\u001b[1;32m~\\anaconda3\\envs\\gp38\\lib\\site-packages\\pandas\\util\\_decorators.py\u001b[0m in \u001b[0;36mwrapper\u001b[1;34m(*args, **kwargs)\u001b[0m\n\u001b[0;32m    309\u001b[0m                     \u001b[0mstacklevel\u001b[0m\u001b[1;33m=\u001b[0m\u001b[0mstacklevel\u001b[0m\u001b[1;33m,\u001b[0m\u001b[1;33m\u001b[0m\u001b[1;33m\u001b[0m\u001b[0m\n\u001b[0;32m    310\u001b[0m                 )\n\u001b[1;32m--> 311\u001b[1;33m             \u001b[1;32mreturn\u001b[0m \u001b[0mfunc\u001b[0m\u001b[1;33m(\u001b[0m\u001b[1;33m*\u001b[0m\u001b[0margs\u001b[0m\u001b[1;33m,\u001b[0m \u001b[1;33m**\u001b[0m\u001b[0mkwargs\u001b[0m\u001b[1;33m)\u001b[0m\u001b[1;33m\u001b[0m\u001b[1;33m\u001b[0m\u001b[0m\n\u001b[0m\u001b[0;32m    312\u001b[0m \u001b[1;33m\u001b[0m\u001b[0m\n\u001b[0;32m    313\u001b[0m         \u001b[1;32mreturn\u001b[0m \u001b[0mwrapper\u001b[0m\u001b[1;33m\u001b[0m\u001b[1;33m\u001b[0m\u001b[0m\n",
      "\u001b[1;32m~\\anaconda3\\envs\\gp38\\lib\\site-packages\\pandas\\core\\frame.py\u001b[0m in \u001b[0;36mdrop\u001b[1;34m(self, labels, axis, index, columns, level, inplace, errors)\u001b[0m\n\u001b[0;32m   4904\u001b[0m                 \u001b[0mweight\u001b[0m  \u001b[1;36m1.0\u001b[0m     \u001b[1;36m0.8\u001b[0m\u001b[1;33m\u001b[0m\u001b[1;33m\u001b[0m\u001b[0m\n\u001b[0;32m   4905\u001b[0m         \"\"\"\n\u001b[1;32m-> 4906\u001b[1;33m         return super().drop(\n\u001b[0m\u001b[0;32m   4907\u001b[0m             \u001b[0mlabels\u001b[0m\u001b[1;33m=\u001b[0m\u001b[0mlabels\u001b[0m\u001b[1;33m,\u001b[0m\u001b[1;33m\u001b[0m\u001b[1;33m\u001b[0m\u001b[0m\n\u001b[0;32m   4908\u001b[0m             \u001b[0maxis\u001b[0m\u001b[1;33m=\u001b[0m\u001b[0maxis\u001b[0m\u001b[1;33m,\u001b[0m\u001b[1;33m\u001b[0m\u001b[1;33m\u001b[0m\u001b[0m\n",
      "\u001b[1;32m~\\anaconda3\\envs\\gp38\\lib\\site-packages\\pandas\\core\\generic.py\u001b[0m in \u001b[0;36mdrop\u001b[1;34m(self, labels, axis, index, columns, level, inplace, errors)\u001b[0m\n\u001b[0;32m   4148\u001b[0m         \u001b[1;32mfor\u001b[0m \u001b[0maxis\u001b[0m\u001b[1;33m,\u001b[0m \u001b[0mlabels\u001b[0m \u001b[1;32min\u001b[0m \u001b[0maxes\u001b[0m\u001b[1;33m.\u001b[0m\u001b[0mitems\u001b[0m\u001b[1;33m(\u001b[0m\u001b[1;33m)\u001b[0m\u001b[1;33m:\u001b[0m\u001b[1;33m\u001b[0m\u001b[1;33m\u001b[0m\u001b[0m\n\u001b[0;32m   4149\u001b[0m             \u001b[1;32mif\u001b[0m \u001b[0mlabels\u001b[0m \u001b[1;32mis\u001b[0m \u001b[1;32mnot\u001b[0m \u001b[1;32mNone\u001b[0m\u001b[1;33m:\u001b[0m\u001b[1;33m\u001b[0m\u001b[1;33m\u001b[0m\u001b[0m\n\u001b[1;32m-> 4150\u001b[1;33m                 \u001b[0mobj\u001b[0m \u001b[1;33m=\u001b[0m \u001b[0mobj\u001b[0m\u001b[1;33m.\u001b[0m\u001b[0m_drop_axis\u001b[0m\u001b[1;33m(\u001b[0m\u001b[0mlabels\u001b[0m\u001b[1;33m,\u001b[0m \u001b[0maxis\u001b[0m\u001b[1;33m,\u001b[0m \u001b[0mlevel\u001b[0m\u001b[1;33m=\u001b[0m\u001b[0mlevel\u001b[0m\u001b[1;33m,\u001b[0m \u001b[0merrors\u001b[0m\u001b[1;33m=\u001b[0m\u001b[0merrors\u001b[0m\u001b[1;33m)\u001b[0m\u001b[1;33m\u001b[0m\u001b[1;33m\u001b[0m\u001b[0m\n\u001b[0m\u001b[0;32m   4151\u001b[0m \u001b[1;33m\u001b[0m\u001b[0m\n\u001b[0;32m   4152\u001b[0m         \u001b[1;32mif\u001b[0m \u001b[0minplace\u001b[0m\u001b[1;33m:\u001b[0m\u001b[1;33m\u001b[0m\u001b[1;33m\u001b[0m\u001b[0m\n",
      "\u001b[1;32m~\\anaconda3\\envs\\gp38\\lib\\site-packages\\pandas\\core\\generic.py\u001b[0m in \u001b[0;36m_drop_axis\u001b[1;34m(self, labels, axis, level, errors)\u001b[0m\n\u001b[0;32m   4183\u001b[0m                 \u001b[0mnew_axis\u001b[0m \u001b[1;33m=\u001b[0m \u001b[0maxis\u001b[0m\u001b[1;33m.\u001b[0m\u001b[0mdrop\u001b[0m\u001b[1;33m(\u001b[0m\u001b[0mlabels\u001b[0m\u001b[1;33m,\u001b[0m \u001b[0mlevel\u001b[0m\u001b[1;33m=\u001b[0m\u001b[0mlevel\u001b[0m\u001b[1;33m,\u001b[0m \u001b[0merrors\u001b[0m\u001b[1;33m=\u001b[0m\u001b[0merrors\u001b[0m\u001b[1;33m)\u001b[0m\u001b[1;33m\u001b[0m\u001b[1;33m\u001b[0m\u001b[0m\n\u001b[0;32m   4184\u001b[0m             \u001b[1;32melse\u001b[0m\u001b[1;33m:\u001b[0m\u001b[1;33m\u001b[0m\u001b[1;33m\u001b[0m\u001b[0m\n\u001b[1;32m-> 4185\u001b[1;33m                 \u001b[0mnew_axis\u001b[0m \u001b[1;33m=\u001b[0m \u001b[0maxis\u001b[0m\u001b[1;33m.\u001b[0m\u001b[0mdrop\u001b[0m\u001b[1;33m(\u001b[0m\u001b[0mlabels\u001b[0m\u001b[1;33m,\u001b[0m \u001b[0merrors\u001b[0m\u001b[1;33m=\u001b[0m\u001b[0merrors\u001b[0m\u001b[1;33m)\u001b[0m\u001b[1;33m\u001b[0m\u001b[1;33m\u001b[0m\u001b[0m\n\u001b[0m\u001b[0;32m   4186\u001b[0m             \u001b[0mresult\u001b[0m \u001b[1;33m=\u001b[0m \u001b[0mself\u001b[0m\u001b[1;33m.\u001b[0m\u001b[0mreindex\u001b[0m\u001b[1;33m(\u001b[0m\u001b[1;33m**\u001b[0m\u001b[1;33m{\u001b[0m\u001b[0maxis_name\u001b[0m\u001b[1;33m:\u001b[0m \u001b[0mnew_axis\u001b[0m\u001b[1;33m}\u001b[0m\u001b[1;33m)\u001b[0m\u001b[1;33m\u001b[0m\u001b[1;33m\u001b[0m\u001b[0m\n\u001b[0;32m   4187\u001b[0m \u001b[1;33m\u001b[0m\u001b[0m\n",
      "\u001b[1;32m~\\anaconda3\\envs\\gp38\\lib\\site-packages\\pandas\\core\\indexes\\base.py\u001b[0m in \u001b[0;36mdrop\u001b[1;34m(self, labels, errors)\u001b[0m\n\u001b[0;32m   6015\u001b[0m         \u001b[1;32mif\u001b[0m \u001b[0mmask\u001b[0m\u001b[1;33m.\u001b[0m\u001b[0many\u001b[0m\u001b[1;33m(\u001b[0m\u001b[1;33m)\u001b[0m\u001b[1;33m:\u001b[0m\u001b[1;33m\u001b[0m\u001b[1;33m\u001b[0m\u001b[0m\n\u001b[0;32m   6016\u001b[0m             \u001b[1;32mif\u001b[0m \u001b[0merrors\u001b[0m \u001b[1;33m!=\u001b[0m \u001b[1;34m\"ignore\"\u001b[0m\u001b[1;33m:\u001b[0m\u001b[1;33m\u001b[0m\u001b[1;33m\u001b[0m\u001b[0m\n\u001b[1;32m-> 6017\u001b[1;33m                 \u001b[1;32mraise\u001b[0m \u001b[0mKeyError\u001b[0m\u001b[1;33m(\u001b[0m\u001b[1;34mf\"{labels[mask]} not found in axis\"\u001b[0m\u001b[1;33m)\u001b[0m\u001b[1;33m\u001b[0m\u001b[1;33m\u001b[0m\u001b[0m\n\u001b[0m\u001b[0;32m   6018\u001b[0m             \u001b[0mindexer\u001b[0m \u001b[1;33m=\u001b[0m \u001b[0mindexer\u001b[0m\u001b[1;33m[\u001b[0m\u001b[1;33m~\u001b[0m\u001b[0mmask\u001b[0m\u001b[1;33m]\u001b[0m\u001b[1;33m\u001b[0m\u001b[1;33m\u001b[0m\u001b[0m\n\u001b[0;32m   6019\u001b[0m         \u001b[1;32mreturn\u001b[0m \u001b[0mself\u001b[0m\u001b[1;33m.\u001b[0m\u001b[0mdelete\u001b[0m\u001b[1;33m(\u001b[0m\u001b[0mindexer\u001b[0m\u001b[1;33m)\u001b[0m\u001b[1;33m\u001b[0m\u001b[1;33m\u001b[0m\u001b[0m\n",
      "\u001b[1;31mKeyError\u001b[0m: \"['diffs'] not found in axis\""
     ]
    }
   ],
   "source": [
    "trip_data = gpd.sjoin(trip_data, background, how='left', op='within')\n",
    "trip_data.rename({'LocationID':'pickup_loc'}, inplace=True, axis = 1)\n",
    "\n",
    "trip_data.drop(['index_right'], axis = 1, inplace= True)\n",
    "\n",
    "trip_data['geometry'] = gpd.points_from_xy(trip_data[' dropoff_longitude'], trip_data[' dropoff_latitude'])\n",
    "trip_data = gpd.sjoin(trip_data, background, how='left', op='within')\n",
    "\n",
    "trip_data.rename({'LocationID':'dropoff_loc'}, inplace=True, axis = 1)\n",
    "\n",
    "trip_data.drop(['index_right','geometry'], axis = 1, inplace= True)\n",
    "# trip_data.to_csv('data/trip_data_matched.csv', index = None)"
   ]
  },
  {
   "cell_type": "code",
   "execution_count": 33,
   "id": "548be847-6da6-4912-9bfa-d2ca1eaa2ae7",
   "metadata": {},
   "outputs": [
    {
     "data": {
      "text/plain": [
       "499391.0"
      ]
     },
     "execution_count": 33,
     "metadata": {},
     "output_type": "execute_result"
    }
   ],
   "source": [
    "len(trip_data)/70"
   ]
  },
  {
   "cell_type": "code",
   "execution_count": 34,
   "id": "8fc96bec-bacc-4f7f-bfb4-e84f18ce8dbd",
   "metadata": {},
   "outputs": [],
   "source": [
    "# trip_data = pd.read_csv('data/trip_data_matched.csv')\n",
    "trip_data['speed'] = 1609*trip_data[' trip_distance'] /trip_data[' trip_time_in_secs'] \n",
    "trip_data = trip_data.groupby(['day_of_year','hour','minute','pickup_loc','dropoff_loc']).agg({'speed': ['mean', 'count'], ' trip_time_in_secs': np.mean, ' trip_distance': np.mean })\n",
    "trip_data = trip_data.reset_index()\n",
    "trip_data.columns = [' '.join(col).strip() for col in trip_data.columns.values]"
   ]
  },
  {
   "cell_type": "code",
   "execution_count": 35,
   "id": "d8ed8f0a-716c-40e3-8156-bd6176bfdcd8",
   "metadata": {},
   "outputs": [],
   "source": [
    "# od demand per minute\n",
    "data = []\n",
    "rows = []\n",
    "cols = []\n",
    "for _,row in trip_data.iterrows():\n",
    "    if(row['pickup_loc']<=263 and row['dropoff_loc']<=263):\n",
    "        data.append(row['speed count'])\n",
    "        rows.append(int((row['day_of_year']-63)*24*60+row['hour']*60+row['minute']))\n",
    "        cols.append(int((row['pickup_loc']-1)*263 + row['dropoff_loc']-1))"
   ]
  },
  {
   "cell_type": "code",
   "execution_count": 36,
   "id": "af33c1d5-feb5-4de4-a5ff-432346459987",
   "metadata": {},
   "outputs": [],
   "source": [
    "od_sparse = csr_matrix((data, (rows, cols)), shape=(70*24*60, 263*263))"
   ]
  },
  {
   "cell_type": "code",
   "execution_count": 37,
   "id": "800cbe84-bbf4-4dd4-9a0e-cf9a1c57c25c",
   "metadata": {},
   "outputs": [
    {
     "data": {
      "text/plain": [
       "489422.65714285715"
      ]
     },
     "execution_count": 37,
     "metadata": {},
     "output_type": "execute_result"
    }
   ],
   "source": [
    "np.sum(od_sparse)/70"
   ]
  },
  {
   "cell_type": "code",
   "execution_count": 38,
   "id": "caf7b464-0e36-4756-aafd-a5336ecb61fb",
   "metadata": {},
   "outputs": [],
   "source": [
    "# scipy.sparse.save_npz('data/od_sparse.npz',od_sparse)\n",
    "# od_sparse = scipy.sparse.load_npz('data/od_sparse.npz')"
   ]
  },
  {
   "cell_type": "code",
   "execution_count": null,
   "id": "d8e3684f-15b9-4110-b360-be701e83d3f9",
   "metadata": {},
   "outputs": [],
   "source": [
    "trip_data = pd.read_csv('data/trip_data_matched.csv')\n",
    "trip_data['speed'] = 1609*trip_data[' trip_distance'] /trip_data[' trip_time_in_secs'] \n",
    "trip_data = trip_data.groupby(['day_of_year','hour','minute','pickup_loc','dropoff_loc']).agg({'speed': ['mean', 'count'], ' trip_time_in_secs': np.mean, ' trip_distance': np.mean, ' fare_amount': np.mean })\n",
    "trip_data = trip_data.reset_index()\n",
    "trip_data.columns = [' '.join(col).strip() for col in trip_data.columns.values]"
   ]
  },
  {
   "cell_type": "code",
   "execution_count": null,
   "id": "611d3bc0-0f3e-4409-a46d-07190b7129bb",
   "metadata": {},
   "outputs": [],
   "source": [
    "data = []\n",
    "rows = []\n",
    "cols = []\n",
    "for _,row in trip_data.iterrows():\n",
    "    if(row['pickup_loc']<=263 and row['dropoff_loc']<=263):\n",
    "        data.append(row['fare_amount mean'])\n",
    "        rows.append(int((row['day_of_year']-63)*24*60+row['hour']*60+row['minute']))\n",
    "        cols.append(int((row['pickup_loc']-1)*263 + row['dropoff_loc']-1))"
   ]
  },
  {
   "cell_type": "code",
   "execution_count": null,
   "id": "b942455d-006b-4b3f-8acb-e57f44afd13c",
   "metadata": {},
   "outputs": [],
   "source": [
    "fare_sparse = csr_matrix((data, (rows, cols)), shape=(70*24*60, 263*263))"
   ]
  },
  {
   "cell_type": "code",
   "execution_count": 46,
   "id": "97d2b463-c669-4de6-906d-3412dd2a9d19",
   "metadata": {},
   "outputs": [],
   "source": [
    "# scipy.sparse.save_npz('data/fare_sparse.npz',fare_sparse)\n",
    "fare_sparse = scipy.sparse.load_npz('data/fare_sparse.npz')"
   ]
  },
  {
   "cell_type": "code",
   "execution_count": 47,
   "id": "1eb279f1-3672-4597-8651-0de9283c6aef",
   "metadata": {},
   "outputs": [],
   "source": [
    "# temporal patterns\n",
    "i = 19*60 # 0 to 60*24\n",
    "k = 62303\n",
    "\n",
    "Y, X =np.histogram(od_sparse[[i+j*7*24*60 for j in range(10)], k].toarray(), bins = range(np.max(2+od_sparse[[i+j*7*24*60 for j in range(10)], k].toarray()).astype(int)))\n",
    "X = X[:-1]\n",
    "Y = Y/(sum(Y)+1e-4)"
   ]
  },
  {
   "cell_type": "code",
   "execution_count": 48,
   "id": "58ce498d-33e8-4a90-80e0-e5e2ba349218",
   "metadata": {},
   "outputs": [],
   "source": [
    "f = lambda x,mu: scipy.stats.poisson(mu).pmf(x)\n",
    "mu = scipy.optimize.curve_fit(f,X,Y)[0]\n",
    "\n",
    "f2 = lambda x,mu,sigma: scipy.stats.norm(mu,sigma).pdf(x)\n",
    "mu2,sigma2 = scipy.optimize.curve_fit(f2,np.log(X+1),Y)[0]"
   ]
  },
  {
   "cell_type": "code",
   "execution_count": null,
   "id": "689e1ce2-c352-4b13-9177-163b312508e3",
   "metadata": {},
   "outputs": [],
   "source": [
    "fig, ax = plt.subplots(figsize=(4,3))\n",
    "\n",
    "dx = 1\n",
    "CY = f(X, mu)\n",
    "CY2 =f2(np.log(X+1), mu2, sigma2)\n",
    "\n",
    "# fit this with Poisson and lognormal\n",
    "plt.bar(X, Y, color= 'C2')\n",
    "plt.plot(X, CY, '--', color = 'C3', label='poisson', lw=3)\n",
    "plt.plot(X, CY2, color = 'C0', label= 'lognormal', lw=3)\n",
    "\n",
    "plt.xlim([0-.5,max(X)+.5])\n",
    "plt.legend()\n",
    "\n",
    "plt.ylabel(\"Probability\")\n",
    "plt.xlabel(\"Number of request per minute\")\n",
    "\n",
    "plt.tight_layout()\n",
    "\n",
    "plt.savefig(\"figs/demand_distribution.png\", dpi=300)\n",
    "plt.savefig(\"figs/demand_distribution.pdf\")"
   ]
  },
  {
   "cell_type": "markdown",
   "id": "4b5fb762-3976-466d-8576-ff0d7da2e624",
   "metadata": {},
   "source": [
    "# Prepare the inputs for numerical experiments"
   ]
  },
  {
   "cell_type": "code",
   "execution_count": 87,
   "id": "786c2772-6116-493f-9536-2752dfd4355c",
   "metadata": {},
   "outputs": [],
   "source": [
    "trip_data = pd.read_csv('data/trip_data_matched.csv')"
   ]
  },
  {
   "cell_type": "code",
   "execution_count": 88,
   "id": "d80b9bad-40cb-47fa-a30b-be78e50c33e2",
   "metadata": {
    "tags": []
   },
   "outputs": [],
   "source": [
    "trip_data = trip_data.groupby(['pickup_loc', 'dropoff_loc']).agg({' trip_distance':np.mean ,' trip_time_in_secs': np.mean}).reset_index()"
   ]
  },
  {
   "cell_type": "code",
   "execution_count": 89,
   "id": "a2a36983-f481-4b07-a1fe-caec622e35de",
   "metadata": {},
   "outputs": [],
   "source": [
    "# travel distance td,\n",
    "td = np.zeros((263, 263))\n",
    "tt = np.zeros((263, 263))\n",
    "for _, row in trip_data.iterrows():\n",
    "    if(row['pickup_loc']<=263 and row['dropoff_loc']<=263):\n",
    "        td[int(row['pickup_loc']-1),int(row['dropoff_loc']-1)] = row[' trip_distance']\n",
    "        tt[int(row['pickup_loc']-1),int(row['dropoff_loc']-1)] = row[' trip_time_in_secs']//60\n",
    "    \n",
    "# try to fill the unfilled value with something\n",
    "for i in range(263):\n",
    "    for j in range (263):\n",
    "        if(td[i,j]==0):\n",
    "            min_dist = 10000\n",
    "            for k in range(263):\n",
    "                if(td[i,k]>0 and td[k,j]>0):\n",
    "                    min_dist = min(min_dist, td[i,k]+td[k,j])\n",
    "            td[i,j] = min_dist\n",
    "\n",
    "for i in range(263):\n",
    "    for j in range (263):\n",
    "        if(tt[i,j]==0):\n",
    "            min_time = 10000\n",
    "            for k in range(263):\n",
    "                if(tt[i,k]>0 and tt[k,j]>0):\n",
    "                    min_time = min(min_time, tt[i,k]+tt[k,j])\n",
    "            tt[i,j] = min_time"
   ]
  },
  {
   "cell_type": "code",
   "execution_count": 19,
   "id": "cc60f1e7-214c-4d7d-b447-95245bc5ee80",
   "metadata": {},
   "outputs": [],
   "source": [
    "import scipy\n",
    "\n",
    "od_sparse = scipy.sparse.load_npz('data/od_sparse.npz')"
   ]
  },
  {
   "cell_type": "code",
   "execution_count": 40,
   "id": "f8885614-86cc-4b0f-b7f1-7c5137ddc3b9",
   "metadata": {},
   "outputs": [
    {
     "data": {
      "text/plain": [
       "489422.65714285715"
      ]
     },
     "execution_count": 40,
     "metadata": {},
     "output_type": "execute_result"
    }
   ],
   "source": [
    "np.sum(od_sparse)/70"
   ]
  },
  {
   "cell_type": "code",
   "execution_count": 44,
   "id": "0b5006a0-d3c3-4433-9978-cbf1a3b48537",
   "metadata": {},
   "outputs": [],
   "source": [
    "import scipy.stats"
   ]
  },
  {
   "cell_type": "code",
   "execution_count": 14,
   "id": "dde68829-7010-4768-92f8-fa861edb46e7",
   "metadata": {},
   "outputs": [
    {
     "ename": "NameError",
     "evalue": "name 'od_sparse' is not defined",
     "output_type": "error",
     "traceback": [
      "\u001b[1;31m---------------------------------------------------------------------------\u001b[0m",
      "\u001b[1;31mNameError\u001b[0m                                 Traceback (most recent call last)",
      "\u001b[1;32m~\\AppData\\Local\\Temp/ipykernel_1708/4243295072.py\u001b[0m in \u001b[0;36m<module>\u001b[1;34m\u001b[0m\n\u001b[0;32m      3\u001b[0m \u001b[1;31m# dp_train, second param (if needed) for demand distribution, unused for now\u001b[0m\u001b[1;33m\u001b[0m\u001b[1;33m\u001b[0m\u001b[1;33m\u001b[0m\u001b[0m\n\u001b[0;32m      4\u001b[0m \u001b[0mi\u001b[0m\u001b[1;33m=\u001b[0m\u001b[1;36m0\u001b[0m\u001b[1;33m\u001b[0m\u001b[1;33m\u001b[0m\u001b[0m\n\u001b[1;32m----> 5\u001b[1;33m \u001b[0mdd_train\u001b[0m \u001b[1;33m=\u001b[0m \u001b[0mod_sparse\u001b[0m\u001b[1;33m[\u001b[0m\u001b[0mi\u001b[0m\u001b[1;33m*\u001b[0m\u001b[1;36m7\u001b[0m\u001b[1;33m*\u001b[0m\u001b[1;36m24\u001b[0m\u001b[1;33m*\u001b[0m\u001b[1;36m60\u001b[0m\u001b[1;33m:\u001b[0m\u001b[1;33m(\u001b[0m\u001b[1;33m(\u001b[0m\u001b[0mi\u001b[0m\u001b[1;33m+\u001b[0m\u001b[1;36m1\u001b[0m\u001b[1;33m)\u001b[0m\u001b[1;33m*\u001b[0m\u001b[1;36m7\u001b[0m\u001b[1;33m*\u001b[0m\u001b[1;36m24\u001b[0m\u001b[1;33m*\u001b[0m\u001b[1;36m60\u001b[0m\u001b[1;33m)\u001b[0m\u001b[1;33m]\u001b[0m\u001b[1;33m\u001b[0m\u001b[1;33m\u001b[0m\u001b[0m\n\u001b[0m\u001b[0;32m      6\u001b[0m \u001b[1;32mfor\u001b[0m \u001b[0mi\u001b[0m \u001b[1;32min\u001b[0m \u001b[0mrange\u001b[0m\u001b[1;33m(\u001b[0m\u001b[1;36m1\u001b[0m\u001b[1;33m,\u001b[0m\u001b[1;36m9\u001b[0m\u001b[1;33m)\u001b[0m\u001b[1;33m:\u001b[0m\u001b[1;33m\u001b[0m\u001b[1;33m\u001b[0m\u001b[0m\n\u001b[0;32m      7\u001b[0m     \u001b[0mdd_train\u001b[0m \u001b[1;33m+=\u001b[0m \u001b[1;33m(\u001b[0m\u001b[0mod_sparse\u001b[0m\u001b[1;33m[\u001b[0m\u001b[0mi\u001b[0m\u001b[1;33m*\u001b[0m\u001b[1;36m7\u001b[0m\u001b[1;33m*\u001b[0m\u001b[1;36m24\u001b[0m\u001b[1;33m*\u001b[0m\u001b[1;36m60\u001b[0m\u001b[1;33m:\u001b[0m\u001b[1;33m(\u001b[0m\u001b[1;33m(\u001b[0m\u001b[0mi\u001b[0m\u001b[1;33m+\u001b[0m\u001b[1;36m1\u001b[0m\u001b[1;33m)\u001b[0m\u001b[1;33m*\u001b[0m\u001b[1;36m7\u001b[0m\u001b[1;33m*\u001b[0m\u001b[1;36m24\u001b[0m\u001b[1;33m*\u001b[0m\u001b[1;36m60\u001b[0m\u001b[1;33m)\u001b[0m\u001b[1;33m]\u001b[0m\u001b[1;33m)\u001b[0m\u001b[1;33m\u001b[0m\u001b[1;33m\u001b[0m\u001b[0m\n",
      "\u001b[1;31mNameError\u001b[0m: name 'od_sparse' is not defined"
     ]
    }
   ],
   "source": [
    "# vehicle target pricing\n",
    "# dd_train, use distribution, which is the mean of the first three weeks\n",
    "# dp_train, second param (if needed) for demand distribution, unused for now\n",
    "i=0\n",
    "dd_train = od_sparse[i*7*24*60:((i+1)*7*24*60)]\n",
    "for i in range(1,9):\n",
    "    dd_train += (od_sparse[i*7*24*60:((i+1)*7*24*60)])\n",
    "dd_train/=9\n",
    "\n",
    "# dd_test, directly use the demand \n",
    "i=9\n",
    "dd_test = od_sparse[i*7*24*60:((i+1)*7*24*60)]\n"
   ]
  },
  {
   "cell_type": "code",
   "execution_count": 15,
   "id": "3bf15b89-504d-48ea-9034-9ef4335a4209",
   "metadata": {},
   "outputs": [],
   "source": [
    "np.random.seed(42)\n",
    "vp = scipy.stats.norm.rvs(mu,sigma, size = 13659)"
   ]
  },
  {
   "cell_type": "code",
   "execution_count": 156,
   "id": "27804720-f145-4f8e-a6d2-c6dbad2171f0",
   "metadata": {},
   "outputs": [],
   "source": [
    "import numpy as np"
   ]
  },
  {
   "cell_type": "code",
   "execution_count": 157,
   "id": "a4f9be04-a434-4bf2-b5d1-7ea479d86818",
   "metadata": {},
   "outputs": [],
   "source": [
    "from matplotlib.collections import PatchCollection\n",
    "from matplotlib.patches import Rectangle"
   ]
  },
  {
   "cell_type": "code",
   "execution_count": 53,
   "id": "cfdc69fa-1ebb-46a5-97be-9220ed55acb2",
   "metadata": {},
   "outputs": [
    {
     "data": {
      "image/png": "[encoded data removed]",
      "text/plain": [
       "<Figure size 432x216 with 1 Axes>"
      ]
     },
     "metadata": {
      "needs_background": "light"
     },
     "output_type": "display_data"
    }
   ],
   "source": [
    "# od_sparse = scipy.sparse.load_npz('data/od_sparse.npz')\n",
    "# vehicle target pricing\n",
    "# dd_train, use distribution, which is the mean of the first three weeks\n",
    "# dp_train, second param (if needed) for demand distribution, unused for now\n",
    "i=0\n",
    "dd_train = np.sum(od_sparse[i*7*24*60:((i+1)*7*24*60)],1).A\n",
    "dd_var = np.sum(od_sparse[i*7*24*60:((i+1)*7*24*60)],1).A**2\n",
    "for i in range(1,9):\n",
    "    dd_train += np.sum(od_sparse[i*7*24*60:((i+1)*7*24*60)],1).A\n",
    "    dd_var += np.sum(od_sparse[i*7*24*60:((i+1)*7*24*60)],1).A**2\n",
    "dd_train/=9\n",
    "dd_var/=9\n",
    "dd_std = np.sqrt(dd_var-dd_train**2)\n",
    "\n",
    "fig,ax = plt.subplots(figsize= (6,3))\n",
    "\n",
    "plt.plot(dd_train, linewidth=1, color = 'C3')\n",
    "plt.fill_between(range(10080),(dd_train-dd_std)[:,0], (dd_train+dd_std)[:,0],color= 'C0', alpha=0.5)\n",
    "\n",
    "plt.xlim([0,10080])\n",
    "plt.ylim([0,700])\n",
    "\n",
    "ax.set_xticks([i*1440+720 for i in range(7)])\n",
    "ax.set_xticklabels(['Mon','Tue','Wed','Thu','Fri','Sat','Sun'])\n",
    "\n",
    "for i in range(0,7,2):\n",
    "    rect = matplotlib.patches.Rectangle((0+1440*i, 0),\n",
    "                                     1440, 800,\n",
    "                                     color ='C7',alpha = 0.2,zorder=0)\n",
    "    ax.add_patch(rect)\n",
    "\n",
    "ax.set_ylabel('Request per minute')\n",
    "\n",
    "plt.savefig(\"figs/demand_distribution.png\", dpi=300)\n",
    "plt.savefig(\"figs/demand_distribution.pdf\")"
   ]
  },
  {
   "cell_type": "code",
   "execution_count": 22,
   "id": "21bd2fd8-b848-47a1-bee6-aeb159781cce",
   "metadata": {},
   "outputs": [
    {
     "name": "stderr",
     "output_type": "stream",
     "text": [
      "C:\\Users\\User\\AppData\\Local\\Temp/ipykernel_1708/18899487.py:1: UserWarning: Geometry is in a geographic CRS. Results from 'centroid' are likely incorrect. Use 'GeoSeries.to_crs()' to re-project geometries to a projected CRS before this operation.\n",
      "\n",
      "  x = (background.iloc[keep_ind].reset_index().geometry.centroid.x).values\n",
      "C:\\Users\\User\\AppData\\Local\\Temp/ipykernel_1708/18899487.py:2: UserWarning: Geometry is in a geographic CRS. Results from 'centroid' are likely incorrect. Use 'GeoSeries.to_crs()' to re-project geometries to a projected CRS before this operation.\n",
      "\n",
      "  y = (background.iloc[keep_ind].reset_index().geometry.centroid.y).values\n"
     ]
    }
   ],
   "source": [
    "x = (background.iloc[keep_ind].reset_index().geometry.centroid.x).values\n",
    "y = (background.iloc[keep_ind].reset_index().geometry.centroid.y).values\n",
    "theta = np.arctan((y[np.argsort(y)[-3]]-y[np.argsort(x)[1]])/(x[np.argsort(y)[-3]]-x[np.argsort(x)[1]]))"
   ]
  },
  {
   "cell_type": "code",
   "execution_count": 23,
   "id": "3b67b1b7-c303-4124-92a6-f4f33d8944bc",
   "metadata": {},
   "outputs": [
    {
     "name": "stderr",
     "output_type": "stream",
     "text": [
      "C:\\Users\\User\\AppData\\Local\\Temp/ipykernel_1708/1963347139.py:18: UserWarning: Geometry is in a geographic CRS. Results from 'centroid' are likely incorrect. Use 'GeoSeries.to_crs()' to re-project geometries to a projected CRS before this operation.\n",
      "\n",
      "  x = (background.iloc[keep_ind].reset_index().geometry.centroid.x).values\n",
      "C:\\Users\\User\\AppData\\Local\\Temp/ipykernel_1708/1963347139.py:19: UserWarning: Geometry is in a geographic CRS. Results from 'centroid' are likely incorrect. Use 'GeoSeries.to_crs()' to re-project geometries to a projected CRS before this operation.\n",
      "\n",
      "  y = (background.iloc[keep_ind].reset_index().geometry.centroid.y).values\n"
     ]
    },
    {
     "data": {
      "text/plain": [
       "[]"
      ]
     },
     "execution_count": 23,
     "metadata": {},
     "output_type": "execute_result"
    },
    {
     "data": {
      "image/png": "[encoded data removed]",
      "text/plain": [
       "<Figure size 480x320 with 2 Axes>"
      ]
     },
     "metadata": {
      "needs_background": "light"
     },
     "output_type": "display_data"
    }
   ],
   "source": [
    "od_agg = np.sum(od_sparse, axis = 0).reshape((263,263)).A\n",
    "od_start = np.sum(od_agg, axis = 0)\n",
    "od_end = np.sum(od_agg, axis = 1)\n",
    "od_start /= np.sum(od_start)\n",
    "od_end /= np.sum(od_end)\n",
    "\n",
    "keep_ind = (od_start>0.01) | (od_end >0.01)\n",
    "\n",
    "fig,ax = plt.subplots()\n",
    "\n",
    "background.rotate(theta/2/np.pi*180, origin=background.unary_union.centroid).plot(ax=ax, facecolor = 'lightgrey')\n",
    "selected = background.iloc[keep_ind].copy().reset_index()\n",
    "selected['pickup'] = od_start[keep_ind] * 100\n",
    "selected.geometry = selected.rotate(theta/2/np.pi*180, origin=background.unary_union.centroid)\n",
    "selected.plot(ax = ax, column='pickup', edgecolor='white', cmap = 'YlOrRd', lw=1, legend=True,\\\n",
    "             legend_kwds={'label': \"% of trip requests\"})\n",
    "\n",
    "x = (background.iloc[keep_ind].reset_index().geometry.centroid.x).values\n",
    "y = (background.iloc[keep_ind].reset_index().geometry.centroid.y).values\n",
    "\n",
    "plt.xlim([-74.05, -73.74])\n",
    "plt.ylim([40.65, 40.82])\n",
    "\n",
    "ax.set_xticks([])\n",
    "ax.set_yticks([])\n",
    "# ax.scatter(x[np.argsort(y)[-3]],y[np.argsort(y)[-3]], color= 'red')\n",
    "# ax.scatter(x[np.argsort(x)[1]],y[np.argsort(x)[1]], color= 'red')\n",
    "\n",
    "# plt.savefig(\"figs/NYC_background.png\", dpi=300)\n",
    "# plt.savefig(\"figs/NYC_background.pdf\")"
   ]
  },
  {
   "cell_type": "code",
   "execution_count": 185,
   "id": "9604ec1f-bb66-4ffa-a21f-7c83b74b84d8",
   "metadata": {},
   "outputs": [
    {
     "data": {
      "text/plain": [
       "[<matplotlib.lines.Line2D at 0x1e8facbcc40>]"
      ]
     },
     "execution_count": 185,
     "metadata": {},
     "output_type": "execute_result"
    },
    {
     "data": {
      "image/png": "[encoded data removed]",
      "text/plain": [
       "<Figure size 480x320 with 1 Axes>"
      ]
     },
     "metadata": {
      "needs_background": "light"
     },
     "output_type": "display_data"
    }
   ],
   "source": [
    "plt.plot(x2,y2, '*')"
   ]
  },
  {
   "cell_type": "code",
   "execution_count": 24,
   "id": "89f7c8a2-78e0-4470-b7a1-0962df30891d",
   "metadata": {},
   "outputs": [],
   "source": [
    "divider = 5e-3 # ~1km\n",
    "divider2 = 1e-2 # ~1km \n",
    "\n",
    "x2 = ((x-x[np.argsort(x)[1]]) * np.cos(np.pi/2-theta) - (y-y[np.argsort(x)[1]])*np.sin(np.pi/2-theta))\n",
    "y2 = ((x-x[np.argsort(x)[1]])  * np.sin(np.pi/2-theta) + (y-y[np.argsort(x)[1]])*np.cos(np.pi/2-theta))\n",
    "\n",
    "# while flag:\n",
    "xind = x2//divider\n",
    "yind = y2//divider2\n",
    "\n",
    "# if np duplicate pairs\n",
    "res = [(i,j) for i,j in zip(xind, yind)]\n",
    "# if(len(res) == len(set(res))):\n",
    "#     flag = False\n",
    "# else:\n",
    "#     divider /= 2"
   ]
  },
  {
   "cell_type": "code",
   "execution_count": 25,
   "id": "a974d8a8-3c2e-4c50-9d63-a1424e3dd1d0",
   "metadata": {},
   "outputs": [],
   "source": [
    "res = [(int(i[0] - min(xind)), int(i[1]-min(yind))) for i in res] "
   ]
  },
  {
   "cell_type": "code",
   "execution_count": 38,
   "id": "b64dbf9b-812e-4b23-b43d-ee1605027fc1",
   "metadata": {},
   "outputs": [],
   "source": [
    "selected['od_pair'] = list(range(40)) # res res_new"
   ]
  },
  {
   "cell_type": "code",
   "execution_count": 39,
   "id": "3f1e86b2-830f-4ff5-9571-df8a7fb0636b",
   "metadata": {},
   "outputs": [
    {
     "data": {
      "image/png": "[encoded data removed]",
      "text/plain": [
       "<Figure size 1440x1440 with 1 Axes>"
      ]
     },
     "metadata": {
      "needs_background": "light"
     },
     "output_type": "display_data"
    }
   ],
   "source": [
    "fig,ax = plt.subplots(figsize=(18,18))\n",
    "\n",
    "selected.plot(ax = ax)\n",
    "selected['coords'] = selected['geometry'].apply(lambda x: x.representative_point().coords[:])\n",
    "selected['coords'] = [coords[0] for coords in selected['coords']]\n",
    "for idx, row in selected.iterrows():\n",
    "    ax.annotate(text=row['od_pair'], xy=row['coords'],\n",
    "                 horizontalalignment='center')"
   ]
  },
  {
   "cell_type": "markdown",
   "id": "537e9dfc-16d0-4572-96de-ddc7a80fbb03",
   "metadata": {},
   "source": [
    "# Think how to efficiently implement this permutation operation."
   ]
  },
  {
   "cell_type": "code",
   "execution_count": 31,
   "id": "d7b71e12-935e-42cc-9bc5-5d45bf75057b",
   "metadata": {},
   "outputs": [],
   "source": [
    "# reindex_res\n",
    "unique_row_ind = [i[0] for i in res] \n",
    "unique_col_ind = [i[1] for i in res]  \n",
    "\n",
    "unique_row_ind.sort()\n",
    "unique_col_ind.sort()\n",
    "\n",
    "unique_row_ind = np.unique(unique_row_ind)\n",
    "unique_col_ind = np.unique(unique_col_ind)"
   ]
  },
  {
   "cell_type": "code",
   "execution_count": 32,
   "id": "3b2b8899-24c8-4607-a3ee-2083629cad50",
   "metadata": {},
   "outputs": [],
   "source": [
    "unique_row_dict = {}\n",
    "unique_col_dict = {}\n",
    "\n",
    "for i in range(len(unique_row_ind)):\n",
    "    unique_row_dict[unique_row_ind[i]] = i\n",
    "for i in range(len(unique_col_ind)):\n",
    "    unique_col_dict[unique_col_ind[i]] = i"
   ]
  },
  {
   "cell_type": "code",
   "execution_count": 33,
   "id": "127053c0-1d3d-4539-9134-49241c29b2f0",
   "metadata": {},
   "outputs": [],
   "source": [
    "res_new=[]\n",
    "for row in res:\n",
    "    res_new.append((unique_row_dict[row[0]], unique_col_dict[row[1]]))"
   ]
  },
  {
   "cell_type": "code",
   "execution_count": 205,
   "id": "406e2ed1-bc7f-4054-b8bb-9596dadc0f04",
   "metadata": {
    "tags": []
   },
   "outputs": [
    {
     "name": "stdout",
     "output_type": "stream",
     "text": [
      "10\n",
      "10\n"
     ]
    }
   ],
   "source": [
    "m = len(unique_row_dict)\n",
    "n = len(unique_col_dict)\n",
    "\n",
    "print(m)\n",
    "print(n)\n",
    "\n",
    "new_res = [[] for i in range(int(m**2))]\n",
    "\n",
    "for i in range(int(m**2)):\n",
    "    for j in range(int(n**2)):\n",
    "        new_res[i].append([])\n",
    "\n",
    "\n",
    "i = 0\n",
    "for i1 in range(int(m)):\n",
    "    for j1 in range(int(n)):\n",
    "        for i2 in range(int(m)):\n",
    "            for j2 in range(int(n)):\n",
    "                for j in range(len(res_new)):\n",
    "                    for k in range(len(res_new)):\n",
    "                        if (i1,j1)==res_new[j] and (i2, j2)==res_new[k]:\n",
    "                            i+=1\n",
    "                            new_res[i1 * m + i2 % m][j1 *n + j2 %n].append((j,k))\n",
    "                    \n",
    "new_res2 = [[] for i in range(int(m**2))]\n",
    "\n",
    "for i in range(int(m**2)):\n",
    "    for j in range(int(n**2)):\n",
    "        new_res2[i].append([])\n",
    "\n",
    "i = 0\n",
    "for i1 in range(int(m)):\n",
    "    for j1 in range(int(n)):\n",
    "        for i2 in range(int(m)):\n",
    "            for j2 in range(int(n)):\n",
    "                for j in range(len(res_new)):\n",
    "                    for k in range(len(res_new)):\n",
    "                        if (i1,j1)==res_new[j] and (i2, j2)==res_new[k]:\n",
    "                            i+=1\n",
    "                            new_res2[i1 % m + i2 * m][j1 % n + j2 * n].append((j,k))"
   ]
  },
  {
   "cell_type": "code",
   "execution_count": 206,
   "id": "8f5eecf7-c6cd-46ab-b93c-bf15f67bbfa3",
   "metadata": {},
   "outputs": [
    {
     "data": {
      "text/plain": [
       "40"
      ]
     },
     "execution_count": 206,
     "metadata": {},
     "output_type": "execute_result"
    }
   ],
   "source": [
    "node_size = int(np.sqrt(i))\n",
    "node_size"
   ]
  },
  {
   "cell_type": "code",
   "execution_count": 208,
   "id": "94ee58ee-1c9b-4da3-b2cc-f762a10697a1",
   "metadata": {},
   "outputs": [],
   "source": [
    "row_index = np.zeros(node_size**2,dtype=int)\n",
    "col_index = np.zeros(node_size**2,dtype=int)\n",
    "for i in range(int(m**2)):\n",
    "    for j in range(int(n**2)):\n",
    "        for (source, target) in new_res[i][j]:\n",
    "            row_index[source * node_size + target] = i\n",
    "            col_index[source * node_size + target] = j\n",
    "\n",
    "row_index2 = np.zeros(node_size**2,dtype=int)\n",
    "col_index2 = np.zeros(node_size**2,dtype=int)\n",
    "for i in range(int(m**2)):\n",
    "    for j in range(int(n**2)):\n",
    "        for (source, target) in new_res2[i][j]:\n",
    "            row_index2[source * node_size + target] = i\n",
    "            col_index2[source * node_size + target] = j\n",
    "\n",
    "np.save('nyc_large/permutation.npy', [row_index, col_index])\n",
    "np.save('nyc_large/permutation2.npy', [row_index2, col_index2])"
   ]
  },
  {
   "cell_type": "code",
   "execution_count": null,
   "id": "f22b720a-94c6-4e51-9e26-d07f6b6f92c5",
   "metadata": {},
   "outputs": [],
   "source": [
    "# row_index \n",
    "# col_index"
   ]
  },
  {
   "cell_type": "code",
   "execution_count": null,
   "id": "fa5fdd12-da3a-4c23-8d12-78a4ee3e9763",
   "metadata": {},
   "outputs": [],
   "source": [
    "# I = 40\n",
    "\n",
    "# res_x = np.zeros((40,40))\n",
    "# res_y = np.zeros((40,40))\n",
    "\n",
    "# for i in range(I):\n",
    "#     for j in range(I):\n",
    "#         i2 = xind_sorted[i]\n",
    "#         j2 = yind_sorted[j]\n",
    "#         res_x[i,j] = i2\n",
    "#         res_y[i,j] = j2\n",
    "\n",
    "# res = [[] for i in range(40)]\n",
    "\n",
    "# for i in range(40):\n",
    "#     for j in range(40):\n",
    "#         res[i].append((res_x[i,j], res_y[i,j]))\n",
    "        \n",
    "# res = np.array(res, dtype= int)"
   ]
  },
  {
   "cell_type": "code",
   "execution_count": 158,
   "id": "fd0151cf-89da-4400-9cdc-ffaadb082e9d",
   "metadata": {},
   "outputs": [],
   "source": [
    "# consider normal + poisson for the sake of simplicity\n",
    "np.save('nyc_large/td.npy', td.reshape((263,263))[keep_ind,:][:,keep_ind])\n",
    "np.save('nyc_large/tt.npy', tt.reshape((263,263))[keep_ind,:][:,keep_ind])\n",
    "np.save('nyc_large/vp.npy', vp/30)\n",
    "np.save('nyc_large/dd_train.npy', dd_train.toarray().reshape((-1,263,263))[:,keep_ind,:][:,:,keep_ind])\n",
    "np.save('nyc_large/dd_test.npy', dd_test.toarray().reshape((-1,263,263))[:,keep_ind,:][:,:,keep_ind])"
   ]
  },
  {
   "cell_type": "code",
   "execution_count": 604,
   "id": "dcf49ae5-6792-4efe-a619-2e6d870d4dcd",
   "metadata": {},
   "outputs": [
    {
     "data": {
      "text/plain": [
       "(10080, 69169)"
      ]
     },
     "execution_count": 604,
     "metadata": {},
     "output_type": "execute_result"
    }
   ],
   "source": [
    "dd_train.shape"
   ]
  },
  {
   "cell_type": "code",
   "execution_count": 600,
   "id": "be2209f1-078d-494d-9c05-33ef5a8b0fdb",
   "metadata": {},
   "outputs": [
    {
     "data": {
      "text/plain": [
       "(121, 576, 2)"
      ]
     },
     "execution_count": 600,
     "metadata": {},
     "output_type": "execute_result"
    }
   ],
   "source": [
    "final_res.shape"
   ]
  },
  {
   "cell_type": "code",
   "execution_count": null,
   "id": "c33c0886-4667-4483-a13b-73d4377c19c7",
   "metadata": {},
   "outputs": [],
   "source": [
    "# dist_mat = td.reshape((263,263))[keep_ind,:][:,keep_ind]\n",
    "\n",
    "# I = 40\n",
    "\n",
    "# f1_mat = np.zeros((I,I),dtype = int)\n",
    "# f2_mat = np.zeros((I,I),dtype = int)\n",
    "\n",
    "# # initialize solution\n",
    "# for m in range(I):\n",
    "#     f1_mat[m,:] = m\n",
    "# for n in range(I):\n",
    "#     f2_mat[:,n] = n\n",
    "\n",
    "# grid_size = 3\n",
    "# node_size = grid_size ** 2\n",
    "\n",
    "# dist_mat = np.zeros((node_size, node_size))\n",
    "\n",
    "# for i in range(grid_size):\n",
    "#     for j in range(grid_size):\n",
    "#         for i2 in range(grid_size):\n",
    "#             for j2 in range(grid_size):\n",
    "#                 dist_mat[i*grid_size+j, i2*grid_size+j2] = abs(i2-i)+abs(j2-j)\n",
    "                \n",
    "# I = grid_size\n",
    "\n",
    "# f1_mat = np.zeros((I,I),dtype = int)\n",
    "# f2_mat = np.zeros((I,I),dtype = int)\n",
    "\n",
    "# # initialize solution\n",
    "# for m in range(I):\n",
    "#     f1_mat[m,:] = m\n",
    "\n",
    "# f2_mat = np.array([[2,1,0],[1,2,0],[2,0,1]])\n",
    "\n",
    "# def f1(i,j):\n",
    "#     if(i>=0 and i<I and j >=0 and j<I):\n",
    "#         return f1_mat[i,j]\n",
    "#     else:\n",
    "#         return -1\n",
    "# def f2(i,j):\n",
    "#     if(i>=0 and i<I and j >=0 and j<I):\n",
    "#         return f2_mat[i,j]\n",
    "#     else:\n",
    "#         return -1\n",
    "\n",
    "# def dist(i, j):\n",
    "#     if(i>=0 and i<I and j >=0 and j<I):\n",
    "#         return dist_mat[i,j]\n",
    "#     else:\n",
    "#         return 0\n",
    "\n",
    "# # def is_better(m1, n1, m2, n2):\n",
    "# #     prev1 = np.sum([dist(f1(m1,n1),f1(m1+i,n1)) +dist(f1(m1+i,n1),f1(m1,n1)) + dist(f1(m1,n1),f1(m1,n1+i)) +dist(f1(m1,n1+i),f1(m1,n1)) for i in [-1,1]]) + \\\n",
    "# #     np.sum([dist(f2(m1,n1),f2(m1+i,n1)) +dist(f2(m1+i,n1),f2(m1,n1)) + dist(f2(m1,n1),f2(m1,n1+i)) +dist(f2(m1,n1+i),f2(m1,n1)) for i in [-1,1]])\n",
    "# #     prev2 =  np.sum([dist(f1(m2,n2),f1(m2+i,n2)) +dist(f1(m2+i,n2),f1(m2,n2)) + dist(f1(m2,n2),f1(m2,n2+i)) +dist(f1(m2,n2+i),f1(m2,n2)) for i in [-1,1]]) + \\\n",
    "# #      np.sum([dist(f2(m2,n2),f2(m2+i,n2)) +dist(f2(m2+i,n2),f2(m2,n2)) + dist(f2(m2,n2),f2(m2,n2+i)) +dist(f2(m2,n2+i),f2(m2,n2)) for i in [-1,1]])\n",
    "# #     new1 = np.sum([dist(f1(m2,n2),f1(m1+i,n1)) +dist(f1(m1+i,n1),f1(m2,n2)) + dist(f1(m2,n2),f1(m1,n1+i)) +dist(f1(m1,n1+i),f1(m2,n2)) for i in [-1,1]]) + \\\n",
    "# #     np.sum([dist(f2(m2,n2),f2(m1+i,n1)) +dist(f2(m1+i,n1),f2(m2,n2)) + dist(f2(m2,n2),f2(m1,n1+i)) +dist(f2(m1,n1+i),f2(m2,n2)) for i in [-1,1]])\n",
    "# #     new2 =  np.sum([dist(f1(m1,n1),f1(m2+i,n2)) +dist(f1(m2+i,n2),f1(m1,n1)) + dist(f1(m1,n1),f1(m2,n2+i)) +dist(f1(m2,n2+i),f1(m1,n1)) for i in [-1,1]]) + \\\n",
    "# #      np.sum([dist(f2(m1,n1),f2(m2+i,n2)) +dist(f2(m2+i,n2),f2(m1,n1)) + dist(f2(m1,n1),f2(m2,n2+i)) +dist(f2(m2,n2+i),f2(m1,n1)) for i in [-1,1]])\n",
    "# #     print(prev1 + prev2)\n",
    "# #     print(new1+new2)\n",
    "# #     if(prev1+prev2 > new1 + new2):\n",
    "# #         return True\n",
    "# #     else:\n",
    "# #         return False\n",
    "\n",
    "# # elementwise does not work\n",
    "# # flag = False\n",
    "# # max_iter = 40 ** 4\n",
    "# # i = 0\n",
    "\n",
    "# # while True:\n",
    "# #     i += 1\n",
    "# #     flag = False\n",
    "# #     for m1 in range(I):\n",
    "# #         for n1 in range(I):\n",
    "# #             for m2 in range(m1+1, I):\n",
    "# #                 for n2 in range(n1+1, I):\n",
    "# #                     if is_better(m1,n1, m2, n2):\n",
    "# #                         temp1 = f1_mat[m1,n1]\n",
    "# #                         temp2 = f2_mat[m1,n1]\n",
    "# #                         f1_mat[m1,n1] = f1_mat[m2,n2]\n",
    "# #                         f2_mat[m1,n1] = f2_mat[m2,n2]\n",
    "# #                         f1_mat[m2,n2] = temp1\n",
    "# #                         f2_mat[m2,n2] = temp2\n",
    "# #                         flag = True\n",
    "# #                         print('('+str(m1)+str(',')+str(n1)+str(')')+','+'('+str(m1)+str(',')+str(n1)+str(')'))\n",
    "# #                         break\n",
    "# #                 if(flag):\n",
    "# #                     break\n",
    "# #             if(flag):\n",
    "# #                 break\n",
    "# #         if(flag):\n",
    "# #             break\n",
    "# #     if(i >= max_iter):\n",
    "# #         break\n",
    "# #     if(flag):\n",
    "# #         continue    \n",
    "# #     break"
   ]
  },
  {
   "cell_type": "code",
   "execution_count": null,
   "id": "e48b3fdb-1c7d-4edd-867b-fa0c55b0990e",
   "metadata": {},
   "outputs": [],
   "source": [
    "# res = 0\n",
    "# for m in range(I):\n",
    "#     for n in range(I-1):\n",
    "#         res += dist_mat[f1(m, n), f1(m, n+1)] + dist_mat[f2(m, n), f2(m, n+1)] +  dist_mat[f1(m, n+1), f1(m, n)] + dist_mat[f2(m, n+1), f2(m, n)]\n",
    "\n",
    "# for m in range(I-1):\n",
    "#     for n in range(I):\n",
    "#         res += dist_mat[f1(m,n), f1(m+1, n)] + dist_mat[f2(m,n), f2(m+1, n)] + dist_mat[f1(m+1, n), f1(m,n)] + dist_mat[f2(m+1, n), f2(m,n),]\n",
    "        \n",
    "# print(res)"
   ]
  },
  {
   "cell_type": "markdown",
   "id": "5dfafd79-298d-4132-9dbe-6e2a27f87300",
   "metadata": {},
   "source": [
    "# Test different permutation"
   ]
  },
  {
   "cell_type": "code",
   "execution_count": 43,
   "id": "8a9bb4e6-775e-4ef5-a4a6-821025014764",
   "metadata": {},
   "outputs": [],
   "source": [
    "res = np.zeros((3,3))\n",
    "for i in range(9):\n",
    "    res[i//3, i %3] = i"
   ]
  },
  {
   "cell_type": "code",
   "execution_count": 47,
   "id": "2df10c06-0644-44b6-9d70-cfcb4ceab3c0",
   "metadata": {},
   "outputs": [],
   "source": [
    "m = 3\n",
    "n = 3\n",
    "\n",
    "res_mat = [[] for i in range(int(m**2))]\n",
    "\n",
    "for i in range(int(m**2)):\n",
    "    for j in range(int(n**2)):\n",
    "        res_mat[i].append((i, j))\n",
    "\n",
    "new_res = [[] for i in range(int(m**2))] # departure permutation\n",
    "\n",
    "for i in range(int(m**2)):\n",
    "    for j in range(int(n**2)):\n",
    "        new_res[i].append((i, j))\n",
    "\n",
    "i = 0\n",
    "for i1 in range(int(m)):\n",
    "    for j1 in range(int(n)):\n",
    "        for i2 in range(int(m)):\n",
    "            for j2 in range(int(n)):\n",
    "                i+=1\n",
    "                new_res[i1 * m + i2 % m][j1 *n + j2 %n] = (int(res[i1,j1]),int(res[i2,j2]))\n",
    "                \n",
    "new_res2 = [[] for i in range(int(m**2))] # arrival permutation\n",
    "\n",
    "for i in range(int(m**2)):\n",
    "    for j in range(int(n**2)):\n",
    "        new_res2[i].append((i, j))\n",
    "\n",
    "i = 0\n",
    "for i1 in range(int(m)):\n",
    "    for j1 in range(int(n)):\n",
    "        for i2 in range(int(m)):\n",
    "            for j2 in range(int(n)):\n",
    "                i+=1\n",
    "                new_res2[i1 % m + i2 * m][j1 %n + j2 *n] = (int(res[i1,j1]),int(res[i2,j2]))"
   ]
  },
  {
   "cell_type": "code",
   "execution_count": 45,
   "id": "8440b081-5b6a-435c-af32-348b4c77bc02",
   "metadata": {},
   "outputs": [
    {
     "data": {
      "text/plain": [
       "[[(0, 0), (0, 1), (0, 2), (0, 3), (0, 4), (0, 5), (0, 6), (0, 7), (0, 8)],\n",
       " [(1, 0), (1, 1), (1, 2), (1, 3), (1, 4), (1, 5), (1, 6), (1, 7), (1, 8)],\n",
       " [(2, 0), (2, 1), (2, 2), (2, 3), (2, 4), (2, 5), (2, 6), (2, 7), (2, 8)],\n",
       " [(3, 0), (3, 1), (3, 2), (3, 3), (3, 4), (3, 5), (3, 6), (3, 7), (3, 8)],\n",
       " [(4, 0), (4, 1), (4, 2), (4, 3), (4, 4), (4, 5), (4, 6), (4, 7), (4, 8)],\n",
       " [(5, 0), (5, 1), (5, 2), (5, 3), (5, 4), (5, 5), (5, 6), (5, 7), (5, 8)],\n",
       " [(6, 0), (6, 1), (6, 2), (6, 3), (6, 4), (6, 5), (6, 6), (6, 7), (6, 8)],\n",
       " [(7, 0), (7, 1), (7, 2), (7, 3), (7, 4), (7, 5), (7, 6), (7, 7), (7, 8)],\n",
       " [(8, 0), (8, 1), (8, 2), (8, 3), (8, 4), (8, 5), (8, 6), (8, 7), (8, 8)]]"
      ]
     },
     "execution_count": 45,
     "metadata": {},
     "output_type": "execute_result"
    }
   ],
   "source": [
    "res_mat"
   ]
  },
  {
   "cell_type": "code",
   "execution_count": 46,
   "id": "9546d613-2049-419d-8c54-858098fb3af9",
   "metadata": {},
   "outputs": [
    {
     "data": {
      "text/plain": [
       "[[(0, 0), (0, 1), (0, 2), (1, 0), (1, 1), (1, 2), (2, 0), (2, 1), (2, 2)],\n",
       " [(0, 3), (0, 4), (0, 5), (1, 3), (1, 4), (1, 5), (2, 3), (2, 4), (2, 5)],\n",
       " [(0, 6), (0, 7), (0, 8), (1, 6), (1, 7), (1, 8), (2, 6), (2, 7), (2, 8)],\n",
       " [(3, 0), (3, 1), (3, 2), (4, 0), (4, 1), (4, 2), (5, 0), (5, 1), (5, 2)],\n",
       " [(3, 3), (3, 4), (3, 5), (4, 3), (4, 4), (4, 5), (5, 3), (5, 4), (5, 5)],\n",
       " [(3, 6), (3, 7), (3, 8), (4, 6), (4, 7), (4, 8), (5, 6), (5, 7), (5, 8)],\n",
       " [(6, 0), (6, 1), (6, 2), (7, 0), (7, 1), (7, 2), (8, 0), (8, 1), (8, 2)],\n",
       " [(6, 3), (6, 4), (6, 5), (7, 3), (7, 4), (7, 5), (8, 3), (8, 4), (8, 5)],\n",
       " [(6, 6), (6, 7), (6, 8), (7, 6), (7, 7), (7, 8), (8, 6), (8, 7), (8, 8)]]"
      ]
     },
     "execution_count": 46,
     "metadata": {},
     "output_type": "execute_result"
    }
   ],
   "source": [
    "new_res"
   ]
  },
  {
   "cell_type": "code",
   "execution_count": 48,
   "id": "63f4a2b7-6623-4e54-852d-3d007c69ae62",
   "metadata": {},
   "outputs": [
    {
     "data": {
      "text/plain": [
       "[[(0, 0), (1, 0), (2, 0), (0, 1), (1, 1), (2, 1), (0, 2), (1, 2), (2, 2)],\n",
       " [(3, 0), (4, 0), (5, 0), (3, 1), (4, 1), (5, 1), (3, 2), (4, 2), (5, 2)],\n",
       " [(6, 0), (7, 0), (8, 0), (6, 1), (7, 1), (8, 1), (6, 2), (7, 2), (8, 2)],\n",
       " [(0, 3), (1, 3), (2, 3), (0, 4), (1, 4), (2, 4), (0, 5), (1, 5), (2, 5)],\n",
       " [(3, 3), (4, 3), (5, 3), (3, 4), (4, 4), (5, 4), (3, 5), (4, 5), (5, 5)],\n",
       " [(6, 3), (7, 3), (8, 3), (6, 4), (7, 4), (8, 4), (6, 5), (7, 5), (8, 5)],\n",
       " [(0, 6), (1, 6), (2, 6), (0, 7), (1, 7), (2, 7), (0, 8), (1, 8), (2, 8)],\n",
       " [(3, 6), (4, 6), (5, 6), (3, 7), (4, 7), (5, 7), (3, 8), (4, 8), (5, 8)],\n",
       " [(6, 6), (7, 6), (8, 6), (6, 7), (7, 7), (8, 7), (6, 8), (7, 8), (8, 8)]]"
      ]
     },
     "execution_count": 48,
     "metadata": {},
     "output_type": "execute_result"
    }
   ],
   "source": [
    "new_res2"
   ]
  },
  {
   "cell_type": "code",
   "execution_count": null,
   "id": "0a8757ad-4b5e-4a03-9748-8b19517d0980",
   "metadata": {},
   "outputs": [],
   "source": [
    "res = [[] for i in range(9)]\n",
    "\n",
    "for i in range(9):\n",
    "    for j in range(9):\n",
    "        res[i].append((i,j))"
   ]
  },
  {
   "cell_type": "markdown",
   "id": "d37efde9-91ea-4035-a399-21a68de2066f",
   "metadata": {},
   "source": [
    "# Coefficients for base price"
   ]
  },
  {
   "cell_type": "code",
   "execution_count": null,
   "id": "6c172ec5-4dd9-4969-b41f-5688dfcf72ec",
   "metadata": {},
   "outputs": [],
   "source": [
    "trip_data = pd.read_csv('data/trip_data_matched.csv')\n",
    "\n",
    "X1 = trip_data[' trip_distance'].values\n",
    "X2 = trip_data[' trip_time_in_secs'].values\n",
    "Y = trip_data[' fare_amount'].values"
   ]
  },
  {
   "cell_type": "code",
   "execution_count": 14,
   "id": "2a6b2e85-26dd-476e-a07f-bafe29373848",
   "metadata": {},
   "outputs": [],
   "source": [
    "from sklearn.linear_model import LinearRegression\n",
    "model = LinearRegression().fit(np.stack([X1,X2/60]).T, Y)"
   ]
  },
  {
   "cell_type": "code",
   "execution_count": 15,
   "id": "f7a23218-4185-4c95-affc-934acb545161",
   "metadata": {},
   "outputs": [
    {
     "data": {
      "text/plain": [
       "1.9554270807578131"
      ]
     },
     "execution_count": 15,
     "metadata": {},
     "output_type": "execute_result"
    }
   ],
   "source": [
    "model.intercept_"
   ]
  },
  {
   "cell_type": "code",
   "execution_count": 16,
   "id": "e03699fb-051f-4fe3-971f-8f84e7aac20d",
   "metadata": {},
   "outputs": [
    {
     "data": {
      "text/plain": [
       "array([1.88930314, 0.3818783 ])"
      ]
     },
     "execution_count": 16,
     "metadata": {},
     "output_type": "execute_result"
    }
   ],
   "source": [
    "model.coef_"
   ]
  },
  {
   "cell_type": "code",
   "execution_count": null,
   "id": "1f7caf9b-7c7a-49ff-b4a4-232a86d4cfd1",
   "metadata": {},
   "outputs": [],
   "source": [
    "# compare the income calculated by zonal level and the real one "
   ]
  }
 ],
 "metadata": {
  "kernelspec": {
   "display_name": "Python 3 (ipykernel)",
   "language": "python",
   "name": "python3"
  },
  "language_info": {
   "codemirror_mode": {
    "name": "ipython",
    "version": 3
   },
   "file_extension": ".py",
   "mimetype": "text/x-python",
   "name": "python",
   "nbconvert_exporter": "python",
   "pygments_lexer": "ipython3",
   "version": "3.8.0"
  }
 },
 "nbformat": 4,
 "nbformat_minor": 5
}
